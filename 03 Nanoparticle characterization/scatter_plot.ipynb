{
 "cells": [
  {
   "cell_type": "markdown",
   "metadata": {},
   "source": [
    "# Import libraries"
   ]
  },
  {
   "cell_type": "code",
   "execution_count": null,
   "metadata": {},
   "outputs": [],
   "source": [
    "#conda install plotly\n",
    "\n",
    "import plotly.graph_objects as go\n"
   ]
  },
  {
   "cell_type": "markdown",
   "metadata": {},
   "source": [
    "# Import data"
   ]
  },
  {
   "cell_type": "code",
   "execution_count": 1,
   "metadata": {},
   "outputs": [],
   "source": [
    "# import data"
   ]
  },
  {
   "cell_type": "markdown",
   "metadata": {},
   "source": [
    "# Plot your data"
   ]
  },
  {
   "cell_type": "code",
   "execution_count": null,
   "metadata": {},
   "outputs": [],
   "source": [
    "figure_scatter = go.Figure(data=[go.Scatter(x=data.iloc[:,1], \n",
    "                                            y=data.iloc[:,0], \n",
    "                                            mode='markers', \n",
    "                                            marker=dict(color='blue', size=10),\n",
    "                                            name='XY coordinates')])\n",
    "\n",
    "\n",
    "figure_scatter.add_trace(go.Scatter(x=cluster_centers[:,1],\n",
    "                                    y=cluster_centers[:,0],\n",
    "                                    mode='markers',\n",
    "                                    marker=dict(color='red', size=10, symbol='x'),\n",
    "                                    name='Cluster Centers'))\n",
    "\n",
    "figure_scatter.update_layout(title = 'Mean Shift Clustering',\n",
    "                             title_font=dict(size=32, color='black'),\n",
    "\n",
    "                             xaxis=dict(title='X', \n",
    "                                        #title_font=dict(size=18, color='black'), \n",
    "                                        #tickfont=dict(size=12, color='black')\n",
    "                                        ),\n",
    "\n",
    "                             yaxis=dict(title='Y', \n",
    "                                        #title_font=dict(size=18, color='black'), #if you would like to change the font size and color\n",
    "                                        #tickfont=dict(size=12, color='black') #if you would like to change the tick size and color\n",
    "                                        )  \n",
    "                            )\n",
    "\n",
    "\n",
    "figure_scatter.show()\n"
   ]
  },
  {
   "cell_type": "markdown",
   "metadata": {},
   "source": [
    "# Save your data"
   ]
  },
  {
   "cell_type": "code",
   "execution_count": null,
   "metadata": {},
   "outputs": [],
   "source": [
    "\n",
    "# Saving as an SVG file\n",
    "figure_scatter.write_image('scatter_plot.svg')\n",
    "\n",
    "# Saving as an html file\n",
    "figure_scatter.write_html('scatter_plot.html')\n"
   ]
  }
 ],
 "metadata": {
  "kernelspec": {
   "display_name": "data-analysis",
   "language": "python",
   "name": "python3"
  },
  "language_info": {
   "codemirror_mode": {
    "name": "ipython",
    "version": 3
   },
   "file_extension": ".py",
   "mimetype": "text/x-python",
   "name": "python",
   "nbconvert_exporter": "python",
   "pygments_lexer": "ipython3",
   "version": "3.11.0"
  }
 },
 "nbformat": 4,
 "nbformat_minor": 2
}
