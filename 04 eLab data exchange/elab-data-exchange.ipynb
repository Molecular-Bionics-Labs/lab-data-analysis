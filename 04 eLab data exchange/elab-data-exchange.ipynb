{
 "cells": [
  {
   "cell_type": "markdown",
   "metadata": {},
   "source": [
    "# Import resources into eLab database\n",
    "\n",
    "\n",
    "This script will read a csv file that contains a list of antibodies, and add them to the resources database with a fine control on which columns are processed and how."
   ]
  },
  {
   "cell_type": "markdown",
   "metadata": {},
   "source": [
    "## Tech detail"
   ]
  },
  {
   "cell_type": "code",
   "execution_count": 1,
   "metadata": {},
   "outputs": [],
   "source": [
    "# the python lib for elab\n",
    "import elabapi_python\n",
    "# we will use the generic csv module\n",
    "import csv\n",
    "# we also need the json module for the metadata (extra fields) part\n",
    "import json\n",
    "\n",
    "from pathlib import Path\n",
    "import os\n",
    "from dotenv import load_dotenv\n",
    "\n",
    "\n",
    "import pandas as pd # to create a combined dataframe"
   ]
  },
  {
   "cell_type": "code",
   "execution_count": 28,
   "metadata": {},
   "outputs": [],
   "source": [
    "#########################\n",
    "#         CONFIG        #\n",
    "#########################\n",
    "# replace with your instance address\n",
    "load_dotenv()\n",
    "API_HOST_URL = os.getenv('API_HOST_URL') #a secure way to store and load sensitive info from a hidden .env file\n",
    "\n",
    "\n",
    "#Available endpoints (not empty) are: \n",
    "#     apikeys, \n",
    "#     config, \n",
    "#     experiments, \n",
    "#     info, \n",
    "#     items, #this is resources database\n",
    "#     experiments_templates, \n",
    "#     items_types, \n",
    "#     event, \n",
    "#     events, \n",
    "#     extra_fields_keys,\n",
    "#     team_tags, \n",
    "#     teams, \n",
    "#     todolist, \n",
    "#     unfinished_steps, \n",
    "#     users\n",
    "\n",
    "# replace with your api key\n",
    "API_KEY = os.getenv('eLabFTW_API_KEY') #a secure way to store and load sensitive info incl. API keys from a hidden .env file\n",
    "\n",
    "# this is the resource category where the entries will be created. Visit https://eln.ibecbarcelona.eu/api/v2/items_types to GET a list.\n",
    "\n",
    "# in this example, category with id 3 corresponds to \"Project CRYPTO-COOL\" at IBEC\n",
    "# in this example, category with id 6 corresponds to \"Antibodies\" at DEMO\n",
    "# RESOURCE_CATEGORY_ID = 15 #IBEC Antibodies (Primary)\n",
    "# RESOURCE_CATEGORY_ID = 59 #IBEC Antibodies (Secondary)\n",
    "# RESOURCE_CATEGORY_ID = 60 #IBEC Fluorophores GBQ\n",
    "# RESOURCE_CATEGORY_ID = 61 #IBEC General Supply\n",
    "# RESOURCE_CATEGORY_ID = 62 #IBEC Reagents\n",
    "# RESOURCE_CATEGORY_ID = 63 #IBEC Equipment\n",
    "# RESOURCE_CATEGORY_ID = 68 #IBEC Solvents\n",
    "\n",
    "\n",
    "#RESOURCE_CATEGORY_ID = 6 #DEMO\n",
    "\n",
    "# parent_dir is a parent directory to our current directory `cwd`\n",
    "parent_dir = Path.cwd().parent\n",
    "\n",
    "# relative_path is a relative path to the directory where our data is stored\n",
    "relative_path = 'Data/'\n",
    "\n",
    "#########################\n",
    "#      END CONFIG       #\n",
    "#########################"
   ]
  },
  {
   "cell_type": "code",
   "execution_count": 34,
   "metadata": {},
   "outputs": [],
   "source": [
    "# Configure the api client\n",
    "configuration = elabapi_python.Configuration()\n",
    "configuration.api_key['api_key'] = API_KEY\n",
    "configuration.api_key_prefix['api_key'] = 'Authorization'\n",
    "configuration.host = API_HOST_URL\n",
    "configuration.debug = False\n",
    "# set to True if you have a proper certificate, here it is set to False to ease the test in dev\n",
    "configuration.verify_ssl = False\n",
    "\n",
    "# create an instance of the API class\n",
    "api_client = elabapi_python.ApiClient(configuration)\n",
    "# fix issue with Authorization header not being properly set by the generated lib\n",
    "api_client.set_default_header(header_name='Authorization', header_value=API_KEY)\n",
    "    \n",
    "# Load items api\n",
    "itemsApi = elabapi_python.ItemsApi(api_client)\n",
    "\n",
    "# Load the experiments api\n",
    "experimentsApi = elabapi_python.ExperimentsApi(api_client)\n"
   ]
  },
  {
   "cell_type": "markdown",
   "metadata": {},
   "source": [
    "## Helper functions to import resources from an csv file"
   ]
  },
  {
   "cell_type": "markdown",
   "metadata": {},
   "source": [
    "### For the example data"
   ]
  },
  {
   "cell_type": "code",
   "execution_count": 16,
   "metadata": {},
   "outputs": [],
   "source": [
    "# function to build the metadata json for a row\n",
    "def getMetadataFromRowExample(row):\n",
    "    # our metadata object for one row, currently a dictionary with a key \"extra_fields\" holding an empty dictionary\n",
    "    metadata = { 'extra_fields': {} }\n",
    "\n",
    "    # now go over the columns (except the title/Name) and add it to our extra_fields object\n",
    "    for keyval in row.items():\n",
    "        field_type = 'text'\n",
    "\n",
    "        # we don't import these columns as metadata\n",
    "        # Name is the title, Comment is in the body, and ID is the custom_id.\n",
    "        if keyval[0] == 'Name' or keyval[0] == 'Comment' or keyval[0] == 'ID':\n",
    "            continue\n",
    "        \n",
    "        # special case for url/URL column, we make it a type: url\n",
    "        if keyval[0].lower() == 'url':\n",
    "            field_type = 'url'\n",
    "        \n",
    "        if keyval[0].lower() == 'price':\n",
    "            field_type = 'number'\n",
    "        \n",
    "        # special case for Concentration column, we use the units\n",
    "        if keyval[0].lower() == 'concentration' and keyval[1]:\n",
    "            split_conc = keyval[1].split()\n",
    "            metadata['extra_fields'].update({keyval[0]: {'value': split_conc[0], 'type': 'number', 'unit': split_conc[1], 'units':['mg/mL', 'μg/mL']}})\n",
    "        elif keyval[0].lower() == 'primary vs secondary':\n",
    "            metadata['extra_fields'].update({keyval[0]: {'value': 'Primary', 'type': 'select', 'options': ['Primary', 'Secondary']}})\n",
    "\n",
    "        elif keyval[0].lower() == 'raised in':\n",
    "            metadata['extra_fields'].update({keyval[0]: {'value': keyval[1], 'type': 'select', 'options': ['Rabbit', 'Mouse']}})\n",
    "        elif keyval[0].lower() == 'recognizes':\n",
    "            metadata['extra_fields'].update({keyval[0]: {\n",
    "                'value': keyval[1].split(', '), 'type': 'select', 'allow_multi_values': True, 'options': ['Ape', 'Chicken', 'Dog', 'Goat', 'Guinea Pig', 'Hamster', 'Human', 'Mink', 'Monkey', 'Mouse', 'Rabbit', 'Rat', 'Sheep', 'Zebrafish']}})\n",
    "        else:\n",
    "            metadata['extra_fields'].update({keyval[0]: {'value': keyval[1], 'type': field_type}})\n",
    "    \n",
    "    return json.dumps(metadata)"
   ]
  },
  {
   "cell_type": "code",
   "execution_count": 17,
   "metadata": {},
   "outputs": [],
   "source": [
    "# The column \"Comment\" will get added to the body of the resource\n",
    "def getBodyFromRowExample(row) -> str:\n",
    "    for keyval in row.items():\n",
    "        if keyval[0] == 'Comment':\n",
    "            return f'<p>{keyval[1]}</p>'\n",
    "    return ''\n"
   ]
  },
  {
   "cell_type": "markdown",
   "metadata": {},
   "source": [
    "### For the MB test data we combine all the excel sheets in one csv file, and upload it to the eLabFTW system"
   ]
  },
  {
   "cell_type": "code",
   "execution_count": 12,
   "metadata": {},
   "outputs": [],
   "source": [
    "import datetime\n",
    "# Specifying our Quartzy Excel file path\n",
    "\n",
    "filename_MB_to_merge = 'Molecular_Bionics_Inventory_Jun_12_2024_to_merge.xlsx'\n",
    "\n",
    "EXCEL_PATH = (parent_dir / relative_path / filename_MB_to_merge).resolve()\n",
    "\n",
    "# Specifying the sheet names to extract\n",
    "sheet_names = ['Antibodies (primary)', \n",
    "               'Antibodies (secondary)', \n",
    "               'Equipment', \n",
    "               'Fluorophores GBQ', \n",
    "               'General Supply', \n",
    "               'Reagents',\n",
    "               'Solvents']\n",
    "\n",
    "# Reading the Excel file and extract the specified sheets\n",
    "# Creating a dictionary of dataframes, where the key is the sheet name and the value is the dataframe\n",
    "dfs = pd.read_excel(EXCEL_PATH, sheet_name=sheet_names) \n",
    "\n",
    "# Adding the 'Type' column to each dataframe\n",
    "for sheet_name, df in dfs.items():\n",
    "    df['Type'] = sheet_name\n",
    "\n",
    "# Combining the dataframes into one\n",
    "combined_df = pd.concat(dfs.values())\n",
    "\n",
    "# Merging 'Molecular weight' and 'Molecular Weight *' into 'Molecular weight'\n",
    "combined_df['Molecular Weight'] = combined_df['Molecular Weight'].fillna(combined_df['Molecular Weight *'])\n",
    "\n",
    "# Removing 'Molecular Weight *' column\n",
    "combined_df = combined_df.drop(columns=['Molecular Weight *'])\n",
    "\n",
    "# Moving the 'Type' column to the first position\n",
    "cols = combined_df.columns.tolist()\n",
    "cols = ['Type'] + [col for col in cols if col != 'Type']\n",
    "combined_df = combined_df[cols]\n",
    "\n",
    "# Adding prefix to 'Name *' column\n",
    "combined_df['Item Name *'] = '(Created via API) ' + combined_df['Item Name *']\n",
    "\n",
    "# Get the current date\n",
    "current_date = datetime.datetime.now().strftime(\"%Y-%m-%d\")\n",
    "\n",
    "# Adding date to the filename\n",
    "filename_with_date = f\"Molecular_Bionics_Inventory_Merged_{current_date}.csv\"\n",
    "\n",
    "# Saving the combined dataframe to the dated CSV file\n",
    "combined_df.to_csv(filename_with_date, index=False)\n"
   ]
  },
  {
   "cell_type": "code",
   "execution_count": 37,
   "metadata": {},
   "outputs": [],
   "source": [
    "# function to build the metadata json for a row\n",
    "def getMetadataFromRow(row):\n",
    "    # our metadata object for one row, currently a dictionary with a key \"extra_fields\" holding an empty dictionary\n",
    "    metadata = { 'extra_fields': {} }\n",
    "\n",
    "    # now go over the columns (except the title/Name) and add it to our extra_fields object\n",
    "    for keyval in row.items():\n",
    "        field_type = 'text'\n",
    "\n",
    "        # we don't import these columns as metadata\n",
    "        # 'Item Name' is the title, 'Technical Details' is body, and 'Serial Number' is the custom_id.\n",
    "        if keyval[0] == 'Item Name *' or keyval[0] == 'Technical Details' or keyval[0] == 'Serial Number':\n",
    "            continue\n",
    "        \n",
    "        # special case for url/URL column, we make it a type: url\n",
    "        if keyval[0].lower() == 'URL':\n",
    "            field_type = 'url'\n",
    "        \n",
    "        if keyval[0].lower() == 'Price' or keyval[0].lower() == 'Molecular Weight'  or keyval[0].lower() == 'Min to Stock' or keyval[0].lower() == 'Max to Stock':\n",
    "            field_type = 'number'\n",
    "\n",
    "        if keyval[0].lower() == 'Expiration Date' or keyval[0].lower() == 'Date Installed' or keyval[0].lower() == 'Date Opened' or keyval[0].lower() == 'Date Purchased':\n",
    "            field_type = 'date'\n",
    "        \n",
    "        # special case for Concentration column, we use the units\n",
    "        if keyval[0].lower() == 'Concentration' and keyval[1]:\n",
    "            split_conc = keyval[1].split()\n",
    "            metadata['extra_fields'].update({keyval[0]: {'value': split_conc[0], 'type': 'number', 'unit': split_conc[1], 'units':['mg/mL', 'μg/mL']}})\n",
    "\n",
    "        elif keyval[0].lower() == 'Primary vs Secondary':\n",
    "            metadata['extra_fields'].update({keyval[0]: {'value': 'Primary', 'type': 'select', 'options': ['Primary', 'Secondary']}})\n",
    "\n",
    "        # this is from eLabFTW example and fits Quartzy\n",
    "        elif keyval[0].lower() == 'Raised in':\n",
    "            metadata['extra_fields'].update({keyval[0]: {'value': keyval[1], 'type': 'select', 'options': ['Chicken', 'Donkey', 'Goat', 'Hamster', 'Human', 'Mouse', 'Rabbit', 'Rat']}})\n",
    "        \n",
    "        # this is from eLabFTW example and fits Quartzy\n",
    "        elif keyval[0].lower() == 'Recognizes':\n",
    "            metadata['extra_fields'].update({keyval[0]: {\n",
    "                'value': keyval[1].split(', '), 'type': 'select', 'allow_multi_values': True, 'options': ['Ape', 'Bacteria', 'Bovine', 'Budding Yeast', 'Canine', 'Chicken', 'Feline', 'Fission Yeast', 'Fruit Fly', 'Frog', 'Goat','Guinea Pig','Hamster', 'Human', 'Mink', 'Monkey', 'Mouse', 'Mustard Weed', 'Nematode', 'Protein Tag', 'Rabbit', 'Rat', 'Sea Slug', 'Sheep', 'Zebrafish']}})\n",
    "            \n",
    "        # this is from Quartzy\n",
    "        elif keyval[0].lower() == 'Applications':\n",
    "            metadata['extra_fields'].update({keyval[0]: {\n",
    "            'value': keyval[1].split(', '), 'type': 'select', 'allow_multi_values': True, 'options': ['Affinity Purification', 'ChIP', 'ELISA', 'Flow cytometry', 'Immunofluorescence', 'Immunohistochemistry', 'Immunoprecipitation', 'Western Blot']}})\n",
    "\n",
    "        # this is from Quartzy\n",
    "        elif keyval[0].lower() == 'Clonality':\n",
    "            metadata['extra_fields'].update({keyval[0]: {\n",
    "            'value': keyval[1], 'type': 'select', 'options': ['Monoclonal', 'Polyclonal']}})\n",
    "\n",
    "        # this is from Quartzy\n",
    "        elif keyval[0].lower() == 'User':\n",
    "            metadata['extra_fields'].update({keyval[0]: {\n",
    "            'value': keyval[1], 'type': 'select', 'options': ['general use', 'ask to main user']}})\n",
    "\n",
    "\n",
    "        elif keyval[0].lower() == 'Delete? (Y/N)':\n",
    "            metadata['extra_fields'].update({keyval[0]: {'value': keyval[1], 'type': 'select', 'options': ['Y', 'N']}})\n",
    "\n",
    "        else:\n",
    "            metadata['extra_fields'].update({keyval[0]: {'value': keyval[1], 'type': field_type}})\n",
    "    \n",
    "        \n",
    "    \n",
    "\n",
    "    return json.dumps(metadata)"
   ]
  },
  {
   "cell_type": "code",
   "execution_count": 25,
   "metadata": {},
   "outputs": [],
   "source": [
    "# The column \"Technical Details\" will get added to the body of the resource\n",
    "def getBodyFromRow(row) -> str:\n",
    "    for keyval in row.items():\n",
    "        if keyval[0] == 'Technical Details':\n",
    "            return f'<p>{keyval[1]}</p>'\n",
    "    return ''"
   ]
  },
  {
   "cell_type": "markdown",
   "metadata": {},
   "source": [
    "## Real stuff starts here"
   ]
  },
  {
   "cell_type": "markdown",
   "metadata": {},
   "source": [
    "### Importing resources"
   ]
  },
  {
   "cell_type": "markdown",
   "metadata": {},
   "source": [
    "Now we specify the file to be imported"
   ]
  },
  {
   "cell_type": "code",
   "execution_count": 17,
   "metadata": {},
   "outputs": [],
   "source": [
    "\n",
    "# filename_example is the name of the file we want to read\n",
    "filename_example = 'elab_resources_import_test_antibodies_2.csv'\n",
    "filename_MB_test = 'Molecular_Bionics_Inventory_Jun_5_2024_test.csv'\n",
    "filename_MB_merged = 'Molecular_Bionics_Inventory_Merged_2024-06-19.csv'\n",
    "\n"
   ]
  },
  {
   "cell_type": "code",
   "execution_count": 18,
   "metadata": {},
   "outputs": [],
   "source": [
    "CSV_PATH = (parent_dir / relative_path / filename_MB_merged).resolve()"
   ]
  },
  {
   "cell_type": "markdown",
   "metadata": {},
   "source": [
    "Quick check of a file"
   ]
  },
  {
   "cell_type": "code",
   "execution_count": 26,
   "metadata": {},
   "outputs": [
    {
     "name": "stdout",
     "output_type": "stream",
     "text": [
      "['Type', 'Delete? (Y/N)', 'Serial Number', 'Item Name *', 'Vendor', 'Catalog #', 'Owner', 'Location', 'Sub-location', 'Location Details', 'Price', 'Amount in Stock', 'Amount in Stock Units', 'Min to Stock', 'Max to Stock', 'Unit Size', 'URL', 'Technical Details', 'Expiration Date', 'Lot Number', 'CAS Number', 'Alternate Name', 'Antigen', 'Applications', 'Bottle Reference', 'Clonality', 'Clone', 'Concentration', 'Conjugation', 'Date Opened', 'Epitope', 'Formula', 'Isotype', 'Lifespan', 'Molecular Weight', 'Physical State', 'Primary vs Secondary', 'Purity', 'Raised in', 'Recognizes', 'Contact Person', 'Contact Phone', 'Date Installed', 'Date Purchased', 'Maintenance History', 'Serial #', 'University Tag #', 'Main user', 'User *', 'User to ask', 'Only for']\n",
      "1\n"
     ]
    }
   ],
   "source": [
    "test_file = csv.DictReader(open(CSV_PATH, newline=''), delimiter=',', quotechar='\"')\n",
    "print(test_file.fieldnames)\n",
    "print(test_file.line_num)"
   ]
  },
  {
   "cell_type": "code",
   "execution_count": 27,
   "metadata": {},
   "outputs": [
    {
     "name": "stdout",
     "output_type": "stream",
     "text": [
      "{'title': '(Created via API) Human ACE-2 PAb Alexa Fluor 594', 'body': '<p></p>', 'custom_id': 'B00001', 'metadata': '{\"extra_fields\": {\"Type\": {\"value\": \"Antibodies (primary)\", \"type\": \"text\"}, \"Delete? (Y/N)\": {\"value\": \"N\", \"type\": \"text\"}, \"Vendor\": {\"value\": \"Bio-Techne R&D Systems, S.L.U.\", \"type\": \"text\"}, \"Catalog #\": {\"value\": \"FAB933T-100UG\", \"type\": \"text\"}, \"Owner\": {\"value\": \"Matilde Ghibaudi\", \"type\": \"text\"}, \"Location\": {\"value\": \"GBB_4 degrees\", \"type\": \"text\"}, \"Sub-location\": {\"value\": \"Reagents 1\", \"type\": \"text\"}, \"Location Details\": {\"value\": \"Blue box\", \"type\": \"text\"}, \"Price\": {\"value\": \"\", \"type\": \"text\"}, \"Amount in Stock\": {\"value\": \"\", \"type\": \"text\"}, \"Amount in Stock Units\": {\"value\": \"units\", \"type\": \"text\"}, \"Min to Stock\": {\"value\": \"\", \"type\": \"text\"}, \"Max to Stock\": {\"value\": \"\", \"type\": \"text\"}, \"Unit Size\": {\"value\": \"\", \"type\": \"text\"}, \"URL\": {\"value\": \"\", \"type\": \"text\"}, \"Expiration Date\": {\"value\": \"\", \"type\": \"text\"}, \"Lot Number\": {\"value\": \"\", \"type\": \"text\"}, \"CAS Number\": {\"value\": \"\", \"type\": \"text\"}, \"Alternate Name\": {\"value\": \"\", \"type\": \"text\"}, \"Antigen\": {\"value\": \"\", \"type\": \"text\"}, \"Applications\": {\"value\": \"\", \"type\": \"text\"}, \"Bottle Reference\": {\"value\": \"\", \"type\": \"text\"}, \"Clonality\": {\"value\": \"\", \"type\": \"text\"}, \"Clone\": {\"value\": \"\", \"type\": \"text\"}, \"Concentration\": {\"value\": \"\", \"type\": \"text\"}, \"Conjugation\": {\"value\": \"\", \"type\": \"text\"}, \"Date Opened\": {\"value\": \"\", \"type\": \"text\"}, \"Epitope\": {\"value\": \"\", \"type\": \"text\"}, \"Formula\": {\"value\": \"\", \"type\": \"text\"}, \"Isotype\": {\"value\": \"\", \"type\": \"text\"}, \"Lifespan\": {\"value\": \"\", \"type\": \"text\"}, \"Molecular Weight\": {\"value\": \"\", \"type\": \"text\"}, \"Physical State\": {\"value\": \"\", \"type\": \"text\"}, \"Primary vs Secondary\": {\"value\": \"\", \"type\": \"text\"}, \"Purity\": {\"value\": \"\", \"type\": \"text\"}, \"Raised in\": {\"value\": \"\", \"type\": \"text\"}, \"Recognizes\": {\"value\": \"\", \"type\": \"text\"}, \"Contact Person\": {\"value\": \"\", \"type\": \"text\"}, \"Contact Phone\": {\"value\": \"\", \"type\": \"text\"}, \"Date Installed\": {\"value\": \"\", \"type\": \"text\"}, \"Date Purchased\": {\"value\": \"\", \"type\": \"text\"}, \"Maintenance History\": {\"value\": \"\", \"type\": \"text\"}, \"Serial #\": {\"value\": \"\", \"type\": \"text\"}, \"University Tag #\": {\"value\": \"\", \"type\": \"text\"}, \"Main user\": {\"value\": \"\", \"type\": \"text\"}, \"User *\": {\"value\": \"\", \"type\": \"text\"}, \"User to ask\": {\"value\": \"\", \"type\": \"text\"}, \"Only for\": {\"value\": \"\", \"type\": \"text\"}}}'}\n",
      "{'title': '(Created via API) Goat anti-Mouse IgG (H+L) Cross-Adsorbed Secondary Antibody, Alexa Fluor™ 700', 'body': '<p></p>', 'custom_id': 'K00002', 'metadata': '{\"extra_fields\": {\"Type\": {\"value\": \"Antibodies (secondary)\", \"type\": \"text\"}, \"Delete? (Y/N)\": {\"value\": \"N\", \"type\": \"text\"}, \"Vendor\": {\"value\": \"Termofisher\", \"type\": \"text\"}, \"Catalog #\": {\"value\": \"A-21036\", \"type\": \"text\"}, \"Owner\": {\"value\": \"Matilde Ghibaudi\", \"type\": \"text\"}, \"Location\": {\"value\": \"GBB_4 degrees\", \"type\": \"text\"}, \"Sub-location\": {\"value\": \"Reagents 1\", \"type\": \"text\"}, \"Location Details\": {\"value\": \"Blue box\", \"type\": \"text\"}, \"Price\": {\"value\": \"\", \"type\": \"text\"}, \"Amount in Stock\": {\"value\": \"\", \"type\": \"text\"}, \"Amount in Stock Units\": {\"value\": \"units\", \"type\": \"text\"}, \"Min to Stock\": {\"value\": \"\", \"type\": \"text\"}, \"Max to Stock\": {\"value\": \"\", \"type\": \"text\"}, \"Unit Size\": {\"value\": \"\", \"type\": \"text\"}, \"URL\": {\"value\": \"https://www.thermofisher.com/antibody/product/Goat-anti-Mouse-IgG-H-L-Cross-Adsorbed-Secondary-Antibody-Polyclonal/A-21036\", \"type\": \"text\"}, \"Expiration Date\": {\"value\": \"\", \"type\": \"text\"}, \"Lot Number\": {\"value\": \"\", \"type\": \"text\"}, \"CAS Number\": {\"value\": \"\", \"type\": \"text\"}, \"Alternate Name\": {\"value\": \"\", \"type\": \"text\"}, \"Antigen\": {\"value\": \"\", \"type\": \"text\"}, \"Applications\": {\"value\": \"\", \"type\": \"text\"}, \"Bottle Reference\": {\"value\": \"\", \"type\": \"text\"}, \"Clonality\": {\"value\": \"\", \"type\": \"text\"}, \"Clone\": {\"value\": \"\", \"type\": \"text\"}, \"Concentration\": {\"value\": \"\", \"type\": \"text\"}, \"Conjugation\": {\"value\": \"\", \"type\": \"text\"}, \"Date Opened\": {\"value\": \"\", \"type\": \"text\"}, \"Epitope\": {\"value\": \"\", \"type\": \"text\"}, \"Formula\": {\"value\": \"\", \"type\": \"text\"}, \"Isotype\": {\"value\": \"\", \"type\": \"text\"}, \"Lifespan\": {\"value\": \"\", \"type\": \"text\"}, \"Molecular Weight\": {\"value\": \"\", \"type\": \"text\"}, \"Physical State\": {\"value\": \"\", \"type\": \"text\"}, \"Primary vs Secondary\": {\"value\": \"\", \"type\": \"text\"}, \"Purity\": {\"value\": \"\", \"type\": \"text\"}, \"Raised in\": {\"value\": \"\", \"type\": \"text\"}, \"Recognizes\": {\"value\": \"\", \"type\": \"text\"}, \"Contact Person\": {\"value\": \"\", \"type\": \"text\"}, \"Contact Phone\": {\"value\": \"\", \"type\": \"text\"}, \"Date Installed\": {\"value\": \"\", \"type\": \"text\"}, \"Date Purchased\": {\"value\": \"\", \"type\": \"text\"}, \"Maintenance History\": {\"value\": \"\", \"type\": \"text\"}, \"Serial #\": {\"value\": \"\", \"type\": \"text\"}, \"University Tag #\": {\"value\": \"\", \"type\": \"text\"}, \"Main user\": {\"value\": \"\", \"type\": \"text\"}, \"User *\": {\"value\": \"\", \"type\": \"text\"}, \"User to ask\": {\"value\": \"\", \"type\": \"text\"}, \"Only for\": {\"value\": \"\", \"type\": \"text\"}}}'}\n",
      "{'title': '(Created via API) Conductivity measure equipment', 'body': '<p></p>', 'custom_id': 'E00144', 'metadata': '{\"extra_fields\": {\"Type\": {\"value\": \"Equipment\", \"type\": \"text\"}, \"Delete? (Y/N)\": {\"value\": \"N\", \"type\": \"text\"}, \"Vendor\": {\"value\": \"Amazon\", \"type\": \"text\"}, \"Catalog #\": {\"value\": \"\", \"type\": \"text\"}, \"Owner\": {\"value\": \"Matilde Ghibaudi\", \"type\": \"text\"}, \"Location\": {\"value\": \"GBQ_balance bench\", \"type\": \"text\"}, \"Sub-location\": {\"value\": \"\", \"type\": \"text\"}, \"Location Details\": {\"value\": \"\", \"type\": \"text\"}, \"Price\": {\"value\": \"\", \"type\": \"text\"}, \"Amount in Stock\": {\"value\": \"\", \"type\": \"text\"}, \"Amount in Stock Units\": {\"value\": \"units\", \"type\": \"text\"}, \"Min to Stock\": {\"value\": \"\", \"type\": \"text\"}, \"Max to Stock\": {\"value\": \"\", \"type\": \"text\"}, \"Unit Size\": {\"value\": \"\", \"type\": \"text\"}, \"URL\": {\"value\": \"https://www.amazon.es/Apera-instrumentos-ai314-bolsillo-EC60-Premium-conductividad/dp/B01ESYG70K?ref_=ast_sto_dp&th=1\", \"type\": \"text\"}, \"Expiration Date\": {\"value\": \"\", \"type\": \"text\"}, \"Lot Number\": {\"value\": \"\", \"type\": \"text\"}, \"CAS Number\": {\"value\": \"\", \"type\": \"text\"}, \"Alternate Name\": {\"value\": \"\", \"type\": \"text\"}, \"Antigen\": {\"value\": \"\", \"type\": \"text\"}, \"Applications\": {\"value\": \"\", \"type\": \"text\"}, \"Bottle Reference\": {\"value\": \"\", \"type\": \"text\"}, \"Clonality\": {\"value\": \"\", \"type\": \"text\"}, \"Clone\": {\"value\": \"\", \"type\": \"text\"}, \"Concentration\": {\"value\": \"\", \"type\": \"text\"}, \"Conjugation\": {\"value\": \"\", \"type\": \"text\"}, \"Date Opened\": {\"value\": \"\", \"type\": \"text\"}, \"Epitope\": {\"value\": \"\", \"type\": \"text\"}, \"Formula\": {\"value\": \"\", \"type\": \"text\"}, \"Isotype\": {\"value\": \"\", \"type\": \"text\"}, \"Lifespan\": {\"value\": \"\", \"type\": \"text\"}, \"Molecular Weight\": {\"value\": \"\", \"type\": \"text\"}, \"Physical State\": {\"value\": \"\", \"type\": \"text\"}, \"Primary vs Secondary\": {\"value\": \"\", \"type\": \"text\"}, \"Purity\": {\"value\": \"\", \"type\": \"text\"}, \"Raised in\": {\"value\": \"\", \"type\": \"text\"}, \"Recognizes\": {\"value\": \"\", \"type\": \"text\"}, \"Contact Person\": {\"value\": \"\", \"type\": \"text\"}, \"Contact Phone\": {\"value\": \"\", \"type\": \"text\"}, \"Date Installed\": {\"value\": \"\", \"type\": \"text\"}, \"Date Purchased\": {\"value\": \"\", \"type\": \"text\"}, \"Maintenance History\": {\"value\": \"\", \"type\": \"text\"}, \"Serial #\": {\"value\": \"\", \"type\": \"text\"}, \"University Tag #\": {\"value\": \"\", \"type\": \"text\"}, \"Main user\": {\"value\": \"\", \"type\": \"text\"}, \"User *\": {\"value\": \"\", \"type\": \"text\"}, \"User to ask\": {\"value\": \"\", \"type\": \"text\"}, \"Only for\": {\"value\": \"\", \"type\": \"text\"}}}'}\n",
      "{'title': '(Created via API) Fluorescein diacetate 5-maleimide', 'body': '<p></p>', 'custom_id': 'J00004', 'metadata': '{\"extra_fields\": {\"Type\": {\"value\": \"Fluorophores GBQ\", \"type\": \"text\"}, \"Delete? (Y/N)\": {\"value\": \"N\", \"type\": \"text\"}, \"Vendor\": {\"value\": \"Sigma-Aldrich\", \"type\": \"text\"}, \"Catalog #\": {\"value\": \"46939-25MG-F\", \"type\": \"text\"}, \"Owner\": {\"value\": \"Vanina Cosenza\", \"type\": \"text\"}, \"Location\": {\"value\": \"GBQ_freezer\", \"type\": \"text\"}, \"Sub-location\": {\"value\": \"Common drawer\", \"type\": \"text\"}, \"Location Details\": {\"value\": \"\", \"type\": \"text\"}, \"Price\": {\"value\": \"\", \"type\": \"text\"}, \"Amount in Stock\": {\"value\": \"\", \"type\": \"text\"}, \"Amount in Stock Units\": {\"value\": \"units\", \"type\": \"text\"}, \"Min to Stock\": {\"value\": \"\", \"type\": \"text\"}, \"Max to Stock\": {\"value\": \"\", \"type\": \"text\"}, \"Unit Size\": {\"value\": \"25 mg\", \"type\": \"text\"}, \"URL\": {\"value\": \"https://www.sigmaaldrich.com/ES/en/product/sigma/46939\", \"type\": \"text\"}, \"Expiration Date\": {\"value\": \"\", \"type\": \"text\"}, \"Lot Number\": {\"value\": \"\", \"type\": \"text\"}, \"CAS Number\": {\"value\": \"150322-01-3\", \"type\": \"text\"}, \"Alternate Name\": {\"value\": \"\", \"type\": \"text\"}, \"Antigen\": {\"value\": \"\", \"type\": \"text\"}, \"Applications\": {\"value\": \"\", \"type\": \"text\"}, \"Bottle Reference\": {\"value\": \"\", \"type\": \"text\"}, \"Clonality\": {\"value\": \"\", \"type\": \"text\"}, \"Clone\": {\"value\": \"\", \"type\": \"text\"}, \"Concentration\": {\"value\": \"\", \"type\": \"text\"}, \"Conjugation\": {\"value\": \"\", \"type\": \"text\"}, \"Date Opened\": {\"value\": \"\", \"type\": \"text\"}, \"Epitope\": {\"value\": \"\", \"type\": \"text\"}, \"Formula\": {\"value\": \"\", \"type\": \"text\"}, \"Isotype\": {\"value\": \"\", \"type\": \"text\"}, \"Lifespan\": {\"value\": \"\", \"type\": \"text\"}, \"Molecular Weight\": {\"value\": \"511.44\", \"type\": \"text\"}, \"Physical State\": {\"value\": \"\", \"type\": \"text\"}, \"Primary vs Secondary\": {\"value\": \"\", \"type\": \"text\"}, \"Purity\": {\"value\": \"\", \"type\": \"text\"}, \"Raised in\": {\"value\": \"\", \"type\": \"text\"}, \"Recognizes\": {\"value\": \"\", \"type\": \"text\"}, \"Contact Person\": {\"value\": \"\", \"type\": \"text\"}, \"Contact Phone\": {\"value\": \"\", \"type\": \"text\"}, \"Date Installed\": {\"value\": \"\", \"type\": \"text\"}, \"Date Purchased\": {\"value\": \"\", \"type\": \"text\"}, \"Maintenance History\": {\"value\": \"\", \"type\": \"text\"}, \"Serial #\": {\"value\": \"\", \"type\": \"text\"}, \"University Tag #\": {\"value\": \"\", \"type\": \"text\"}, \"Main user\": {\"value\": \"\", \"type\": \"text\"}, \"User *\": {\"value\": \"general use\", \"type\": \"text\"}, \"User to ask\": {\"value\": \"\", \"type\": \"text\"}, \"Only for\": {\"value\": \"\", \"type\": \"text\"}}}'}\n",
      "{'title': '(Created via API) Art® Barrier Ultra Micro Tips with MicroPoint Design, Thermo Scientific, MicroPoint, Hinged Rack, Volume=1000 µL, Length=8.89 cm (3 1 / 2 ), Sterility=Sterile', 'body': '<p></p>', 'custom_id': 'E00009', 'metadata': '{\"extra_fields\": {\"Type\": {\"value\": \"General Supply\", \"type\": \"text\"}, \"Delete? (Y/N)\": {\"value\": \"N\", \"type\": \"text\"}, \"Vendor\": {\"value\": \"Thermo Scientific\", \"type\": \"text\"}, \"Catalog #\": {\"value\": \"2179-HR\", \"type\": \"text\"}, \"Owner\": {\"value\": \"Catia Lopes\", \"type\": \"text\"}, \"Location\": {\"value\": \"GBB_Cabinet 5\", \"type\": \"text\"}, \"Sub-location\": {\"value\": \"\", \"type\": \"text\"}, \"Location Details\": {\"value\": \"\", \"type\": \"text\"}, \"Price\": {\"value\": \"\", \"type\": \"text\"}, \"Amount in Stock\": {\"value\": \"11\", \"type\": \"text\"}, \"Amount in Stock Units\": {\"value\": \"units\", \"type\": \"text\"}, \"Min to Stock\": {\"value\": \"10.0\", \"type\": \"text\"}, \"Max to Stock\": {\"value\": \"\", \"type\": \"text\"}, \"Unit Size\": {\"value\": \"3072/CS\", \"type\": \"text\"}, \"URL\": {\"value\": \"https://www.midlandsci.com/default.aspx?itemcode=MBP+2179-HR&page=item+detail\", \"type\": \"text\"}, \"Expiration Date\": {\"value\": \"\", \"type\": \"text\"}, \"Lot Number\": {\"value\": \"\", \"type\": \"text\"}, \"CAS Number\": {\"value\": \"\", \"type\": \"text\"}, \"Alternate Name\": {\"value\": \"\", \"type\": \"text\"}, \"Antigen\": {\"value\": \"\", \"type\": \"text\"}, \"Applications\": {\"value\": \"\", \"type\": \"text\"}, \"Bottle Reference\": {\"value\": \"\", \"type\": \"text\"}, \"Clonality\": {\"value\": \"\", \"type\": \"text\"}, \"Clone\": {\"value\": \"\", \"type\": \"text\"}, \"Concentration\": {\"value\": \"\", \"type\": \"text\"}, \"Conjugation\": {\"value\": \"\", \"type\": \"text\"}, \"Date Opened\": {\"value\": \"\", \"type\": \"text\"}, \"Epitope\": {\"value\": \"\", \"type\": \"text\"}, \"Formula\": {\"value\": \"\", \"type\": \"text\"}, \"Isotype\": {\"value\": \"\", \"type\": \"text\"}, \"Lifespan\": {\"value\": \"\", \"type\": \"text\"}, \"Molecular Weight\": {\"value\": \"\", \"type\": \"text\"}, \"Physical State\": {\"value\": \"\", \"type\": \"text\"}, \"Primary vs Secondary\": {\"value\": \"\", \"type\": \"text\"}, \"Purity\": {\"value\": \"\", \"type\": \"text\"}, \"Raised in\": {\"value\": \"\", \"type\": \"text\"}, \"Recognizes\": {\"value\": \"\", \"type\": \"text\"}, \"Contact Person\": {\"value\": \"\", \"type\": \"text\"}, \"Contact Phone\": {\"value\": \"\", \"type\": \"text\"}, \"Date Installed\": {\"value\": \"\", \"type\": \"text\"}, \"Date Purchased\": {\"value\": \"\", \"type\": \"text\"}, \"Maintenance History\": {\"value\": \"\", \"type\": \"text\"}, \"Serial #\": {\"value\": \"\", \"type\": \"text\"}, \"University Tag #\": {\"value\": \"\", \"type\": \"text\"}, \"Main user\": {\"value\": \"\", \"type\": \"text\"}, \"User *\": {\"value\": \"\", \"type\": \"text\"}, \"User to ask\": {\"value\": \"\", \"type\": \"text\"}, \"Only for\": {\"value\": \"\", \"type\": \"text\"}}}'}\n",
      "{'title': '(Created via API) Total Exosome RNA & Protein Isolation Kit', 'body': '<p></p>', 'custom_id': 'E00069', 'metadata': '{\"extra_fields\": {\"Type\": {\"value\": \"Reagents\", \"type\": \"text\"}, \"Delete? (Y/N)\": {\"value\": \"N\", \"type\": \"text\"}, \"Vendor\": {\"value\": \"Thermo Scientific\", \"type\": \"text\"}, \"Catalog #\": {\"value\": \"4478545\", \"type\": \"text\"}, \"Owner\": {\"value\": \"Matilde Ghibaudi\", \"type\": \"text\"}, \"Location\": {\"value\": \"GBB_cabinet 16\", \"type\": \"text\"}, \"Sub-location\": {\"value\": \"\", \"type\": \"text\"}, \"Location Details\": {\"value\": \"\", \"type\": \"text\"}, \"Price\": {\"value\": \"\", \"type\": \"text\"}, \"Amount in Stock\": {\"value\": \"1\", \"type\": \"text\"}, \"Amount in Stock Units\": {\"value\": \"units\", \"type\": \"text\"}, \"Min to Stock\": {\"value\": \"\", \"type\": \"text\"}, \"Max to Stock\": {\"value\": \"\", \"type\": \"text\"}, \"Unit Size\": {\"value\": \"40 rxns\", \"type\": \"text\"}, \"URL\": {\"value\": \"https://www.thermofisher.com/order/catalog/product/4478545\", \"type\": \"text\"}, \"Expiration Date\": {\"value\": \"\", \"type\": \"text\"}, \"Lot Number\": {\"value\": \"\", \"type\": \"text\"}, \"CAS Number\": {\"value\": \"\", \"type\": \"text\"}, \"Alternate Name\": {\"value\": \"\", \"type\": \"text\"}, \"Antigen\": {\"value\": \"\", \"type\": \"text\"}, \"Applications\": {\"value\": \"\", \"type\": \"text\"}, \"Bottle Reference\": {\"value\": \"\", \"type\": \"text\"}, \"Clonality\": {\"value\": \"\", \"type\": \"text\"}, \"Clone\": {\"value\": \"\", \"type\": \"text\"}, \"Concentration\": {\"value\": \"\", \"type\": \"text\"}, \"Conjugation\": {\"value\": \"\", \"type\": \"text\"}, \"Date Opened\": {\"value\": \"\", \"type\": \"text\"}, \"Epitope\": {\"value\": \"\", \"type\": \"text\"}, \"Formula\": {\"value\": \"\", \"type\": \"text\"}, \"Isotype\": {\"value\": \"\", \"type\": \"text\"}, \"Lifespan\": {\"value\": \"\", \"type\": \"text\"}, \"Molecular Weight\": {\"value\": \"\", \"type\": \"text\"}, \"Physical State\": {\"value\": \"\", \"type\": \"text\"}, \"Primary vs Secondary\": {\"value\": \"\", \"type\": \"text\"}, \"Purity\": {\"value\": \"\", \"type\": \"text\"}, \"Raised in\": {\"value\": \"\", \"type\": \"text\"}, \"Recognizes\": {\"value\": \"\", \"type\": \"text\"}, \"Contact Person\": {\"value\": \"\", \"type\": \"text\"}, \"Contact Phone\": {\"value\": \"\", \"type\": \"text\"}, \"Date Installed\": {\"value\": \"\", \"type\": \"text\"}, \"Date Purchased\": {\"value\": \"\", \"type\": \"text\"}, \"Maintenance History\": {\"value\": \"\", \"type\": \"text\"}, \"Serial #\": {\"value\": \"\", \"type\": \"text\"}, \"University Tag #\": {\"value\": \"\", \"type\": \"text\"}, \"Main user\": {\"value\": \"\", \"type\": \"text\"}, \"User *\": {\"value\": \"\", \"type\": \"text\"}, \"User to ask\": {\"value\": \"\", \"type\": \"text\"}, \"Only for\": {\"value\": \"\", \"type\": \"text\"}}}'}\n",
      "{'title': '(Created via API) 1,4-Dioxane ≥99.0% (by GC) stabilised', 'body': '<p></p>', 'custom_id': 'L00002', 'metadata': '{\"extra_fields\": {\"Type\": {\"value\": \"Solvents\", \"type\": \"text\"}, \"Delete? (Y/N)\": {\"value\": \"N\", \"type\": \"text\"}, \"Vendor\": {\"value\": \"TCI Europe\", \"type\": \"text\"}, \"Catalog #\": {\"value\": \"D0860-500G\", \"type\": \"text\"}, \"Owner\": {\"value\": \"Vanina Cosenza\", \"type\": \"text\"}, \"Location\": {\"value\": \"GBQ_cabinet 2\", \"type\": \"text\"}, \"Sub-location\": {\"value\": \"2S2\", \"type\": \"text\"}, \"Location Details\": {\"value\": \"\", \"type\": \"text\"}, \"Price\": {\"value\": \"\", \"type\": \"text\"}, \"Amount in Stock\": {\"value\": \"1 bottle opened\", \"type\": \"text\"}, \"Amount in Stock Units\": {\"value\": \"units\", \"type\": \"text\"}, \"Min to Stock\": {\"value\": \"\", \"type\": \"text\"}, \"Max to Stock\": {\"value\": \"\", \"type\": \"text\"}, \"Unit Size\": {\"value\": \"\", \"type\": \"text\"}, \"URL\": {\"value\": \"\", \"type\": \"text\"}, \"Expiration Date\": {\"value\": \"\", \"type\": \"text\"}, \"Lot Number\": {\"value\": \"\", \"type\": \"text\"}, \"CAS Number\": {\"value\": \"\", \"type\": \"text\"}, \"Alternate Name\": {\"value\": \"\", \"type\": \"text\"}, \"Antigen\": {\"value\": \"\", \"type\": \"text\"}, \"Applications\": {\"value\": \"\", \"type\": \"text\"}, \"Bottle Reference\": {\"value\": \"\", \"type\": \"text\"}, \"Clonality\": {\"value\": \"\", \"type\": \"text\"}, \"Clone\": {\"value\": \"\", \"type\": \"text\"}, \"Concentration\": {\"value\": \"\", \"type\": \"text\"}, \"Conjugation\": {\"value\": \"\", \"type\": \"text\"}, \"Date Opened\": {\"value\": \"\", \"type\": \"text\"}, \"Epitope\": {\"value\": \"\", \"type\": \"text\"}, \"Formula\": {\"value\": \"\", \"type\": \"text\"}, \"Isotype\": {\"value\": \"\", \"type\": \"text\"}, \"Lifespan\": {\"value\": \"\", \"type\": \"text\"}, \"Molecular Weight\": {\"value\": \"\", \"type\": \"text\"}, \"Physical State\": {\"value\": \"\", \"type\": \"text\"}, \"Primary vs Secondary\": {\"value\": \"\", \"type\": \"text\"}, \"Purity\": {\"value\": \"\", \"type\": \"text\"}, \"Raised in\": {\"value\": \"\", \"type\": \"text\"}, \"Recognizes\": {\"value\": \"\", \"type\": \"text\"}, \"Contact Person\": {\"value\": \"\", \"type\": \"text\"}, \"Contact Phone\": {\"value\": \"\", \"type\": \"text\"}, \"Date Installed\": {\"value\": \"\", \"type\": \"text\"}, \"Date Purchased\": {\"value\": \"\", \"type\": \"text\"}, \"Maintenance History\": {\"value\": \"\", \"type\": \"text\"}, \"Serial #\": {\"value\": \"\", \"type\": \"text\"}, \"University Tag #\": {\"value\": \"\", \"type\": \"text\"}, \"Main user\": {\"value\": \"\", \"type\": \"text\"}, \"User *\": {\"value\": \"General use\", \"type\": \"text\"}, \"User to ask\": {\"value\": \"\", \"type\": \"text\"}, \"Only for\": {\"value\": \"\", \"type\": \"text\"}}}'}\n"
     ]
    }
   ],
   "source": [
    "for row in test_file:\n",
    "    test = body={'title': row['Item Name *'], 'body': getBodyFromRow(row), 'custom_id': row['Serial Number'], 'metadata': getMetadataFromRow(row)}\n",
    "    print(test)"
   ]
  },
  {
   "cell_type": "markdown",
   "metadata": {},
   "source": [
    "### Import is done here: create items and modify them by filling in the fields"
   ]
  },
  {
   "cell_type": "code",
   "execution_count": 30,
   "metadata": {},
   "outputs": [],
   "source": [
    "resource_dict = {'Antibodies (primary)': 15, \n",
    "                 'Antibodies (secondary)': 59,\n",
    "                 'Fluorophores GBQ': 60,\n",
    "                 'General Supply': 61,\n",
    "                 'Reagents': 62,\n",
    "                 'Equipment': 63,\n",
    "                 'Solvents': 68}\n",
    "\n",
    "# RESOURCE_CATEGORY_ID = 15 #IBEC Antibodies (Primary)\n",
    "# RESOURCE_CATEGORY_ID = 59 #IBEC Antibodies (Secondary)\n",
    "# RESOURCE_CATEGORY_ID = 60 #IBEC Fluorophores GBQ\n",
    "# RESOURCE_CATEGORY_ID = 61 #IBEC General Supply\n",
    "# RESOURCE_CATEGORY_ID = 62 #IBEC Reagents\n",
    "# RESOURCE_CATEGORY_ID = 63 #IBEC Equipment\n",
    "# RESOURCE_CATEGORY_ID = 68 #IBEC Solvents"
   ]
  },
  {
   "cell_type": "code",
   "execution_count": null,
   "metadata": {},
   "outputs": [],
   "source": [
    "# Note: use encoding='utf-8-sig' in the open() call if your file has BOM (Byte Order Mark)\n",
    "# Also make sure that the CSV file was saved as UTF-8 to avoid issues with special characters\n",
    "\n",
    "with open(CSV_PATH, newline='') as csvfile: \n",
    "    \n",
    "    # let's read the CSV using the standard \"csv\" library from python. No need for anything fancier.\n",
    "    csvreader = csv.DictReader(csvfile, delimiter=',', quotechar='\"')\n",
    "    \n",
    "    # now we loop over each row in our CSV\n",
    "    for row in csvreader:\n",
    "        #we assign RESOURCE_CATEGORY_ID based on the 'Type' column taking the value from the distionary\n",
    "        RESOURCE_CATEGORY_ID = resource_dict[row['Type']]\n",
    "        \n",
    "        # we can add a custom tag e.g. \"-20°C freezer\" to every row\n",
    "        # the API allows setting tags during creation (POST) of a resource or experiment, so we use it here\n",
    "        response = itemsApi.post_item_with_http_info(body={'category_id': RESOURCE_CATEGORY_ID, \n",
    "                                                           #'tags': ['-20°C freezer']\n",
    "                                                           })\n",
    "        locationHeaderInResponse = response[2].get('Location')\n",
    "        print(f'The newly created item is here: {locationHeaderInResponse}')\n",
    "\n",
    "        # that's our ID of the newly created resource\n",
    "        itemId = int(locationHeaderInResponse.split('/').pop())\n",
    "        print('The Item Id is: ' + str(itemId))\n",
    "\n",
    "        # Patch the item to change its content:\n",
    "        # the \"Name\" column becomes our title\n",
    "        # the \"Body\" is generated from the \"Comment\" column content with the \"getBodyFromRow()\" function\n",
    "        # for the \"ID\" column we match it to the \"custom_id\" property in elab\n",
    "        # and the extra fields (metadata) is built with a function\n",
    "        # the single line below will make all those changes at once\n",
    "        itemsApi.patch_item(itemId, body={'title': row['Item Name *'], 'body': getBodyFromRow(row), 'custom_id': row['Serial Number'], 'metadata': getMetadataFromRow(row)})"
   ]
  },
  {
   "cell_type": "markdown",
   "metadata": {},
   "source": [
    "### Modifying resources"
   ]
  },
  {
   "cell_type": "markdown",
   "metadata": {},
   "source": [
    "What item you want to modify"
   ]
  },
  {
   "cell_type": "code",
   "execution_count": 41,
   "metadata": {},
   "outputs": [
    {
     "name": "stdout",
     "output_type": "stream",
     "text": [
      "Item to modify: 48\n"
     ]
    }
   ],
   "source": [
    "itemId_to_modify = itemId\n",
    "print(f'Item to modify: {itemId_to_modify}')"
   ]
  },
  {
   "cell_type": "markdown",
   "metadata": {},
   "source": [
    "Modify whatever needed"
   ]
  },
  {
   "cell_type": "code",
   "execution_count": null,
   "metadata": {},
   "outputs": [],
   "source": [
    "itemsApi.patch_item(itemId, body={'title': 'Another title', \n",
    "                                  #'body': 'Main content text', \n",
    "                                  #'rating': 5\n",
    "                                  })"
   ]
  },
  {
   "cell_type": "markdown",
   "metadata": {},
   "source": [
    "## Importing experiments"
   ]
  },
  {
   "cell_type": "code",
   "execution_count": null,
   "metadata": {},
   "outputs": [],
   "source": [
    "# Load the experiments api\n",
    "experimentsApi = elabapi_python.ExperimentsApi(api_client)\n",
    "\n",
    "# all experiments belonging to that user will get modified\n",
    "target_userid = 2\n",
    "# make sure this team group exists!\n",
    "# to get its id go to /api/v2/teams/current/teamgroups\n",
    "target_teamgroup = 2\n",
    "\n",
    "# This is the permission setting we will assign to the experiments\n",
    "# base:20 means \"User + Admin\" (see https://github.com/elabftw/elabftw/blob/b193d9fc738ab2635e07317ad83f8c5c1c50413a/src/enums/BasePermissions.php#L17)\n",
    "canwrite = canread = { 'base': 20, 'teams': [], 'teamgroups': [target_teamgroup], 'users': [] }\n",
    "\n",
    "# get a list of experiments for a given user\n",
    "experiments = experimentsApi.read_experiments(owner=target_userid,limit=9999)\n",
    "for exp in experiments:\n",
    "    experimentsApi.patch_experiment(exp.id, body={'canread': json.dumps(canread), 'canwrite': json.dumps(canwrite)})"
   ]
  }
 ],
 "metadata": {
  "kernelspec": {
   "display_name": "data-analysis",
   "language": "python",
   "name": "python3"
  },
  "language_info": {
   "codemirror_mode": {
    "name": "ipython",
    "version": 3
   },
   "file_extension": ".py",
   "mimetype": "text/x-python",
   "name": "python",
   "nbconvert_exporter": "python",
   "pygments_lexer": "ipython3",
   "version": "3.11.9"
  }
 },
 "nbformat": 4,
 "nbformat_minor": 2
}
