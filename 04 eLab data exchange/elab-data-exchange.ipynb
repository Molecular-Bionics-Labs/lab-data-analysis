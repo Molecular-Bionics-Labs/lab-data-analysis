{
 "cells": [
  {
   "cell_type": "markdown",
   "metadata": {},
   "source": [
    "# Import resources into eLab database\n",
    "\n",
    "\n",
    "This script will read a csv file that contains a list of antibodies, and add them to the resources database with a fine control on which columns are processed and how."
   ]
  },
  {
   "cell_type": "markdown",
   "metadata": {},
   "source": [
    "## Tech detail"
   ]
  },
  {
   "cell_type": "code",
   "execution_count": 22,
   "metadata": {},
   "outputs": [],
   "source": [
    "# the python lib for elab\n",
    "import elabapi_python\n",
    "# we will use the generic csv module\n",
    "import csv\n",
    "# we also need the json module for the metadata (extra fields) part\n",
    "import json\n",
    "\n",
    "from pathlib import Path\n",
    "import os\n",
    "from dotenv import load_dotenv\n",
    "\n",
    "\n",
    "import pandas as pd # to create a combined dataframe"
   ]
  },
  {
   "cell_type": "code",
   "execution_count": 33,
   "metadata": {},
   "outputs": [],
   "source": [
    "#########################\n",
    "#         CONFIG        #\n",
    "#########################\n",
    "# replace with your instance address\n",
    "load_dotenv()\n",
    "API_HOST_URL = os.getenv('API_HOST_URL') #a secure way to store and load sensitive info from a hidden .env file\n",
    "\n",
    "\n",
    "#Available endpoints (not empty) are: \n",
    "#     apikeys, \n",
    "#     config, \n",
    "#     experiments, \n",
    "#     info, \n",
    "#     items, #this is resources database\n",
    "#     experiments_templates, \n",
    "#     items_types, \n",
    "#     event, \n",
    "#     events, \n",
    "#     extra_fields_keys,\n",
    "#     team_tags, \n",
    "#     teams, \n",
    "#     todolist, \n",
    "#     unfinished_steps, \n",
    "#     users\n",
    "\n",
    "# replace with your api key\n",
    "API_KEY = os.getenv('eLabFTW_API_KEY') #a secure way to store and load sensitive info incl. API keys from a hidden .env file\n",
    "\n",
    "# this is the resource category where the entries will be created. Visit https://eln.ibecbarcelona.eu/api/v2/items_types to GET a list.\n",
    "\n",
    "# in this example, category with id 3 corresponds to \"Project CRYPTO-COOL\" at IBEC\n",
    "# in this example, category with id 6 corresponds to \"Antibodies\" at DEMO\n",
    "RESOURCE_CATEGORY_ID = 45 #IBEC \n",
    "#RESOURCE_CATEGORY_ID = 6 #DEMO\n",
    "\n",
    "# parent_dir is a parent directory to our current directory `cwd`\n",
    "parent_dir = Path.cwd().parent\n",
    "\n",
    "# relative_path is a relative path to the directory where our data is stored\n",
    "relative_path = 'Data/'\n",
    "\n",
    "# filename_example is the name of the file we want to read\n",
    "filename_example = 'elab_resources_import_test_antibodies_2.csv'\n",
    "filename_MB_test = 'Molecular_Bionics_Inventory_Jun_5_2024_test.csv'\n",
    "filename_MB_merged = 'Molecular_Bionics_Inventory_Merged_2024-06-10.csv'\n",
    "\n",
    "\n",
    "#########################\n",
    "#      END CONFIG       #\n",
    "#########################"
   ]
  },
  {
   "cell_type": "code",
   "execution_count": 15,
   "metadata": {},
   "outputs": [],
   "source": [
    "# Configure the api client\n",
    "configuration = elabapi_python.Configuration()\n",
    "configuration.api_key['api_key'] = API_KEY\n",
    "configuration.api_key_prefix['api_key'] = 'Authorization'\n",
    "configuration.host = API_HOST_URL\n",
    "configuration.debug = False\n",
    "# set to True if you have a proper certificate, here it is set to False to ease the test in dev\n",
    "configuration.verify_ssl = False\n",
    "\n",
    "# create an instance of the API class\n",
    "api_client = elabapi_python.ApiClient(configuration)\n",
    "# fix issue with Authorization header not being properly set by the generated lib\n",
    "api_client.set_default_header(header_name='Authorization', header_value=API_KEY)\n",
    "    \n",
    "# Load items api\n",
    "itemsApi = elabapi_python.ItemsApi(api_client)\n",
    "\n",
    "# Load the experiments api\n",
    "experimentsApi = elabapi_python.ExperimentsApi(api_client)\n"
   ]
  },
  {
   "cell_type": "markdown",
   "metadata": {},
   "source": [
    "## Helper functions to import resources from an csv file"
   ]
  },
  {
   "cell_type": "markdown",
   "metadata": {},
   "source": [
    "### For the example data"
   ]
  },
  {
   "cell_type": "code",
   "execution_count": 16,
   "metadata": {},
   "outputs": [],
   "source": [
    "# function to build the metadata json for a row\n",
    "def getMetadataFromRowExample(row):\n",
    "    # our metadata object for one row, currently a dictionary with a key \"extra_fields\" holding an empty dictionary\n",
    "    metadata = { 'extra_fields': {} }\n",
    "\n",
    "    # now go over the columns (except the title/Name) and add it to our extra_fields object\n",
    "    for keyval in row.items():\n",
    "        field_type = 'text'\n",
    "\n",
    "        # we don't import these columns as metadata\n",
    "        # Name is the title, Comment is in the body, and ID is the custom_id.\n",
    "        if keyval[0] == 'Name' or keyval[0] == 'Comment' or keyval[0] == 'ID':\n",
    "            continue\n",
    "        \n",
    "        # special case for url/URL column, we make it a type: url\n",
    "        if keyval[0].lower() == 'url':\n",
    "            field_type = 'url'\n",
    "        \n",
    "        if keyval[0].lower() == 'price':\n",
    "            field_type = 'number'\n",
    "        \n",
    "        # special case for Concentration column, we use the units\n",
    "        if keyval[0].lower() == 'concentration' and keyval[1]:\n",
    "            split_conc = keyval[1].split()\n",
    "            metadata['extra_fields'].update({keyval[0]: {'value': split_conc[0], 'type': 'number', 'unit': split_conc[1], 'units':['mg/mL', 'μg/mL']}})\n",
    "        elif keyval[0].lower() == 'primary vs secondary':\n",
    "            metadata['extra_fields'].update({keyval[0]: {'value': 'Primary', 'type': 'select', 'options': ['Primary', 'Secondary']}})\n",
    "\n",
    "        elif keyval[0].lower() == 'raised in':\n",
    "            metadata['extra_fields'].update({keyval[0]: {'value': keyval[1], 'type': 'select', 'options': ['Rabbit', 'Mouse']}})\n",
    "        elif keyval[0].lower() == 'recognizes':\n",
    "            metadata['extra_fields'].update({keyval[0]: {\n",
    "                'value': keyval[1].split(', '), 'type': 'select', 'allow_multi_values': True, 'options': ['Ape', 'Chicken', 'Dog', 'Goat', 'Guinea Pig', 'Hamster', 'Human', 'Mink', 'Monkey', 'Mouse', 'Rabbit', 'Rat', 'Sheep', 'Zebrafish']}})\n",
    "        else:\n",
    "            metadata['extra_fields'].update({keyval[0]: {'value': keyval[1], 'type': field_type}})\n",
    "    \n",
    "    return json.dumps(metadata)"
   ]
  },
  {
   "cell_type": "code",
   "execution_count": 17,
   "metadata": {},
   "outputs": [],
   "source": [
    "# The column \"Comment\" will get added to the body of the resource\n",
    "def getBodyFromRowExample(row) -> str:\n",
    "    for keyval in row.items():\n",
    "        if keyval[0] == 'Comment':\n",
    "            return f'<p>{keyval[1]}</p>'\n",
    "    return ''\n"
   ]
  },
  {
   "cell_type": "markdown",
   "metadata": {},
   "source": [
    "### For the MB test data we combine all the excel sheets in one csv file, and upload it to the eLabFTW system"
   ]
  },
  {
   "cell_type": "code",
   "execution_count": 40,
   "metadata": {},
   "outputs": [],
   "source": [
    "import datetime\n",
    "# Specifying our Quartzy Excel file path\n",
    "\n",
    "filename_MB_to_merge = 'Molecular_Bionics_Inventory_Jun_5_2024_to_merge.xlsx'\n",
    "\n",
    "EXCEL_PATH = (parent_dir / relative_path / filename_MB_to_merge).resolve()\n",
    "\n",
    "# Specifying the sheet names to extract\n",
    "sheet_names = ['Antibodies (primary)', \n",
    "               'Antibodies (secondary)', \n",
    "               'Equipment', \n",
    "               'Fluorophores GBQ', \n",
    "               'General Supply', \n",
    "               'Reagents']\n",
    "\n",
    "# Reading the Excel file and extract the specified sheets\n",
    "dfs = pd.read_excel(EXCEL_PATH, sheet_name=sheet_names)\n",
    "\n",
    "# Adding the 'Type' column to each dataframe\n",
    "for sheet_name, df in dfs.items():\n",
    "    df['Type'] = sheet_name\n",
    "\n",
    "# Combining the dataframes into one\n",
    "combined_df = pd.concat(dfs.values())\n",
    "\n",
    "# Removing duplicates based on all columns\n",
    "combined_df = combined_df.drop_duplicates()\n",
    "\n",
    "# Moving the 'Type' column to the first position\n",
    "cols = combined_df.columns.tolist()\n",
    "cols = ['Type'] + [col for col in cols if col != 'Type']\n",
    "combined_df = combined_df[cols]\n",
    "\n",
    "# Adding prefix to 'Name *' column\n",
    "combined_df['Item Name *'] = '(Created via API) ' + combined_df['Item Name *']\n",
    "\n",
    "# Get the current date\n",
    "current_date = datetime.datetime.now().strftime(\"%Y-%m-%d\")\n",
    "\n",
    "# Adding date to the filename\n",
    "filename_with_date = f\"Molecular_Bionics_Inventory_Merged_{current_date}.csv\"\n",
    "\n",
    "# Saving the combined dataframe to the dated CSV file\n",
    "combined_df.to_csv(filename_with_date, index=False)\n"
   ]
  },
  {
   "cell_type": "code",
   "execution_count": null,
   "metadata": {},
   "outputs": [],
   "source": [
    "# function to build the metadata json for a row\n",
    "def getMetadataFromRow(row):\n",
    "    # our metadata object for one row, currently a dictionary with a key \"extra_fields\" holding an empty dictionary\n",
    "    metadata = { 'extra_fields': {} }\n",
    "\n",
    "    # now go over the columns (except the title/Name) and add it to our extra_fields object\n",
    "    for keyval in row.items():\n",
    "        field_type = 'text'\n",
    "\n",
    "        # we don't import these columns as metadata\n",
    "        # 'Item Name' is the title, 'Technical Details' is body, and 'Serial Number' is the custom_id.\n",
    "        if keyval[0] == 'Item Name *' or keyval[0] == 'Technical Details' or keyval[0] == 'Serial Number':\n",
    "            continue\n",
    "        \n",
    "        # special case for url/URL column, we make it a type: url\n",
    "        if keyval[0].lower() == 'url':\n",
    "            field_type = 'url'\n",
    "        \n",
    "        if keyval[0].lower() == 'price':\n",
    "            field_type = 'number'\n",
    "        \n",
    "        # special case for Concentration column, we use the units\n",
    "        if keyval[0].lower() == 'concentration' and keyval[1]:\n",
    "            split_conc = keyval[1].split()\n",
    "            metadata['extra_fields'].update({keyval[0]: {'value': split_conc[0], 'type': 'number', 'unit': split_conc[1], 'units':['mg/mL', 'μg/mL']}})\n",
    "\n",
    "        elif keyval[0].lower() == 'primary vs secondary':\n",
    "            metadata['extra_fields'].update({keyval[0]: {'value': 'Primary', 'type': 'select', 'options': ['Primary', 'Secondary']}})\n",
    "\n",
    "        # this is from eLabFTW example\n",
    "        elif keyval[0].lower() == 'raised in':\n",
    "            metadata['extra_fields'].update({keyval[0]: {'value': keyval[1], 'type': 'select', 'options': ['Rabbit', 'Mouse']}})\n",
    "        \n",
    "        # this is from eLabFTW example\n",
    "        elif keyval[0].lower() == 'recognizes':\n",
    "            metadata['extra_fields'].update({keyval[0]: {\n",
    "                'value': keyval[1].split(', '), 'type': 'select', 'allow_multi_values': True, 'options': ['Ape', 'Chicken', 'Dog', 'Goat', 'Guinea Pig', 'Hamster', 'Human', 'Mink', 'Monkey', 'Mouse', 'Rabbit', 'Rat', 'Sheep', 'Zebrafish']}})\n",
    "        else:\n",
    "            metadata['extra_fields'].update({keyval[0]: {'value': keyval[1], 'type': field_type}})\n",
    "    \n",
    "    return json.dumps(metadata)"
   ]
  },
  {
   "cell_type": "code",
   "execution_count": null,
   "metadata": {},
   "outputs": [],
   "source": [
    "# The column \"Technical Details\" will get added to the body of the resource\n",
    "def getBodyFromRow(row) -> str:\n",
    "    for keyval in row.items():\n",
    "        if keyval[0] == 'Technical Details':\n",
    "            return f'<p>{keyval[1]}</p>'\n",
    "    return ''"
   ]
  },
  {
   "cell_type": "markdown",
   "metadata": {},
   "source": [
    "## Real stuff starts here"
   ]
  },
  {
   "cell_type": "markdown",
   "metadata": {},
   "source": [
    "### Importing resources"
   ]
  },
  {
   "cell_type": "markdown",
   "metadata": {},
   "source": [
    "Now we specify the file to be imported"
   ]
  },
  {
   "cell_type": "code",
   "execution_count": 41,
   "metadata": {},
   "outputs": [],
   "source": [
    "CSV_PATH = (parent_dir / relative_path / filename_MB_merged).resolve()"
   ]
  },
  {
   "cell_type": "markdown",
   "metadata": {},
   "source": [
    "Quick check of a file"
   ]
  },
  {
   "cell_type": "code",
   "execution_count": 42,
   "metadata": {},
   "outputs": [
    {
     "name": "stdout",
     "output_type": "stream",
     "text": [
      "['Type', 'Delete? (Y/N)', 'Serial Number', 'Item Name *', 'Vendor', 'Catalog #', 'Owner', 'Location', 'Sub-location', 'Location Details', 'Price', 'Amount in Stock', 'Amount in Stock Units', 'Min to Stock', 'Max to Stock', 'Unit Size', 'URL', 'Technical Details', 'Expiration Date', 'Lot Number', 'CAS Number', 'Alternate Name', 'Antigen', 'Applications', 'Bottle Reference', 'Clonality', 'Clone', 'Concentration', 'Conjugation', 'Date Opened', 'Epitope', 'Formula', 'Isotype', 'Lifespan', 'Molecular Weight', 'Physical State', 'Primary vs Secondary', 'Purity', 'Raised in', 'Recognizes', 'Contact Person', 'Contact Phone', 'Date Installed', 'Date Purchased', 'Maintenance History', 'Serial #', 'University Tag #', 'Molecular Weight *', 'User *', 'User to ask']\n",
      "1\n"
     ]
    }
   ],
   "source": [
    "test_file = csv.DictReader(open(CSV_PATH, newline=''), delimiter=',', quotechar='\"')\n",
    "print(test_file.fieldnames)\n",
    "print(test_file.line_num)"
   ]
  },
  {
   "cell_type": "code",
   "execution_count": 43,
   "metadata": {},
   "outputs": [
    {
     "name": "stdout",
     "output_type": "stream",
     "text": [
      "{'title': '(Created via API) Human ACE-2 PAb Alexa Fluor 594', 'body': '', 'custom_id': 'B00001', 'metadata': '{\"extra_fields\": {\"Type\": {\"value\": \"Antibodies (primary)\", \"type\": \"text\"}, \"Delete? (Y/N)\": {\"value\": \"N\", \"type\": \"text\"}, \"Serial Number\": {\"value\": \"B00001\", \"type\": \"text\"}, \"Item Name *\": {\"value\": \"(Created via API) Human ACE-2 PAb Alexa Fluor 594\", \"type\": \"text\"}, \"Vendor\": {\"value\": \"Bio-Techne R&D Systems, S.L.U.\", \"type\": \"text\"}, \"Catalog #\": {\"value\": \"FAB933T-100UG\", \"type\": \"text\"}, \"Owner\": {\"value\": \"Matilde Ghibaudi\", \"type\": \"text\"}, \"Location\": {\"value\": \"GBB_4 degrees reagents 1 blue box\", \"type\": \"text\"}, \"Sub-location\": {\"value\": \"\", \"type\": \"text\"}, \"Location Details\": {\"value\": \"\", \"type\": \"text\"}, \"Price\": {\"value\": \"\", \"type\": \"number\"}, \"Amount in Stock\": {\"value\": \"\", \"type\": \"text\"}, \"Amount in Stock Units\": {\"value\": \"units\", \"type\": \"text\"}, \"Min to Stock\": {\"value\": \"\", \"type\": \"text\"}, \"Max to Stock\": {\"value\": \"\", \"type\": \"text\"}, \"Unit Size\": {\"value\": \"\", \"type\": \"text\"}, \"URL\": {\"value\": \"\", \"type\": \"url\"}, \"Technical Details\": {\"value\": \"\", \"type\": \"text\"}, \"Expiration Date\": {\"value\": \"\", \"type\": \"text\"}, \"Lot Number\": {\"value\": \"\", \"type\": \"text\"}, \"CAS Number\": {\"value\": \"\", \"type\": \"text\"}, \"Alternate Name\": {\"value\": \"\", \"type\": \"text\"}, \"Antigen\": {\"value\": \"\", \"type\": \"text\"}, \"Applications\": {\"value\": \"\", \"type\": \"text\"}, \"Bottle Reference\": {\"value\": \"\", \"type\": \"text\"}, \"Clonality\": {\"value\": \"\", \"type\": \"text\"}, \"Clone\": {\"value\": \"\", \"type\": \"text\"}, \"Concentration\": {\"value\": \"\", \"type\": \"text\"}, \"Conjugation\": {\"value\": \"\", \"type\": \"text\"}, \"Date Opened\": {\"value\": \"\", \"type\": \"text\"}, \"Epitope\": {\"value\": \"\", \"type\": \"text\"}, \"Formula\": {\"value\": \"\", \"type\": \"text\"}, \"Isotype\": {\"value\": \"\", \"type\": \"text\"}, \"Lifespan\": {\"value\": \"\", \"type\": \"text\"}, \"Molecular Weight\": {\"value\": \"\", \"type\": \"text\"}, \"Physical State\": {\"value\": \"\", \"type\": \"text\"}, \"Primary vs Secondary\": {\"value\": \"Primary\", \"type\": \"select\", \"options\": [\"Primary\", \"Secondary\"]}, \"Purity\": {\"value\": \"\", \"type\": \"text\"}, \"Raised in\": {\"value\": \"\", \"type\": \"select\", \"options\": [\"Rabbit\", \"Mouse\"]}, \"Recognizes\": {\"value\": [\"\"], \"type\": \"select\", \"allow_multi_values\": true, \"options\": [\"Ape\", \"Chicken\", \"Dog\", \"Goat\", \"Guinea Pig\", \"Hamster\", \"Human\", \"Mink\", \"Monkey\", \"Mouse\", \"Rabbit\", \"Rat\", \"Sheep\", \"Zebrafish\"]}, \"Contact Person\": {\"value\": \"\", \"type\": \"text\"}, \"Contact Phone\": {\"value\": \"\", \"type\": \"text\"}, \"Date Installed\": {\"value\": \"\", \"type\": \"text\"}, \"Date Purchased\": {\"value\": \"\", \"type\": \"text\"}, \"Maintenance History\": {\"value\": \"\", \"type\": \"text\"}, \"Serial #\": {\"value\": \"\", \"type\": \"text\"}, \"University Tag #\": {\"value\": \"\", \"type\": \"text\"}, \"Molecular Weight *\": {\"value\": \"\", \"type\": \"text\"}, \"User *\": {\"value\": \"\", \"type\": \"text\"}, \"User to ask\": {\"value\": \"\", \"type\": \"text\"}}}'}\n",
      "{'title': '(Created via API) B2M monoclonal antibody, clone 3F2', 'body': '', 'custom_id': 'B00003', 'metadata': '{\"extra_fields\": {\"Type\": {\"value\": \"Antibodies (primary)\", \"type\": \"text\"}, \"Delete? (Y/N)\": {\"value\": \"N\", \"type\": \"text\"}, \"Serial Number\": {\"value\": \"B00003\", \"type\": \"text\"}, \"Item Name *\": {\"value\": \"(Created via API) B2M monoclonal antibody, clone 3F2\", \"type\": \"text\"}, \"Vendor\": {\"value\": \"BIOGEN CIENTIFICA, S.L.\", \"type\": \"text\"}, \"Catalog #\": {\"value\": \"AB-H00000567-M02\", \"type\": \"text\"}, \"Owner\": {\"value\": \"Matilde Ghibaudi\", \"type\": \"text\"}, \"Location\": {\"value\": \"GBB_-20\", \"type\": \"text\"}, \"Sub-location\": {\"value\": \"Victor box\", \"type\": \"text\"}, \"Location Details\": {\"value\": \"\", \"type\": \"text\"}, \"Price\": {\"value\": \"\", \"type\": \"number\"}, \"Amount in Stock\": {\"value\": \"\", \"type\": \"text\"}, \"Amount in Stock Units\": {\"value\": \"units\", \"type\": \"text\"}, \"Min to Stock\": {\"value\": \"\", \"type\": \"text\"}, \"Max to Stock\": {\"value\": \"\", \"type\": \"text\"}, \"Unit Size\": {\"value\": \"\", \"type\": \"text\"}, \"URL\": {\"value\": \"\", \"type\": \"url\"}, \"Technical Details\": {\"value\": \"\", \"type\": \"text\"}, \"Expiration Date\": {\"value\": \"\", \"type\": \"text\"}, \"Lot Number\": {\"value\": \"\", \"type\": \"text\"}, \"CAS Number\": {\"value\": \"\", \"type\": \"text\"}, \"Alternate Name\": {\"value\": \"\", \"type\": \"text\"}, \"Antigen\": {\"value\": \"\", \"type\": \"text\"}, \"Applications\": {\"value\": \"\", \"type\": \"text\"}, \"Bottle Reference\": {\"value\": \"\", \"type\": \"text\"}, \"Clonality\": {\"value\": \"\", \"type\": \"text\"}, \"Clone\": {\"value\": \"\", \"type\": \"text\"}, \"Concentration\": {\"value\": \"\", \"type\": \"text\"}, \"Conjugation\": {\"value\": \"\", \"type\": \"text\"}, \"Date Opened\": {\"value\": \"\", \"type\": \"text\"}, \"Epitope\": {\"value\": \"\", \"type\": \"text\"}, \"Formula\": {\"value\": \"\", \"type\": \"text\"}, \"Isotype\": {\"value\": \"\", \"type\": \"text\"}, \"Lifespan\": {\"value\": \"\", \"type\": \"text\"}, \"Molecular Weight\": {\"value\": \"\", \"type\": \"text\"}, \"Physical State\": {\"value\": \"\", \"type\": \"text\"}, \"Primary vs Secondary\": {\"value\": \"Primary\", \"type\": \"select\", \"options\": [\"Primary\", \"Secondary\"]}, \"Purity\": {\"value\": \"\", \"type\": \"text\"}, \"Raised in\": {\"value\": \"\", \"type\": \"select\", \"options\": [\"Rabbit\", \"Mouse\"]}, \"Recognizes\": {\"value\": [\"\"], \"type\": \"select\", \"allow_multi_values\": true, \"options\": [\"Ape\", \"Chicken\", \"Dog\", \"Goat\", \"Guinea Pig\", \"Hamster\", \"Human\", \"Mink\", \"Monkey\", \"Mouse\", \"Rabbit\", \"Rat\", \"Sheep\", \"Zebrafish\"]}, \"Contact Person\": {\"value\": \"\", \"type\": \"text\"}, \"Contact Phone\": {\"value\": \"\", \"type\": \"text\"}, \"Date Installed\": {\"value\": \"\", \"type\": \"text\"}, \"Date Purchased\": {\"value\": \"\", \"type\": \"text\"}, \"Maintenance History\": {\"value\": \"\", \"type\": \"text\"}, \"Serial #\": {\"value\": \"\", \"type\": \"text\"}, \"University Tag #\": {\"value\": \"\", \"type\": \"text\"}, \"Molecular Weight *\": {\"value\": \"\", \"type\": \"text\"}, \"User *\": {\"value\": \"\", \"type\": \"text\"}, \"User to ask\": {\"value\": \"\", \"type\": \"text\"}}}'}\n",
      "{'title': '(Created via API) beta actin HRP', 'body': '', 'custom_id': 'B00004', 'metadata': '{\"extra_fields\": {\"Type\": {\"value\": \"Antibodies (primary)\", \"type\": \"text\"}, \"Delete? (Y/N)\": {\"value\": \"N\", \"type\": \"text\"}, \"Serial Number\": {\"value\": \"B00004\", \"type\": \"text\"}, \"Item Name *\": {\"value\": \"(Created via API) beta actin HRP\", \"type\": \"text\"}, \"Vendor\": {\"value\": \"Merck\", \"type\": \"text\"}, \"Catalog #\": {\"value\": \"A5316\", \"type\": \"text\"}, \"Owner\": {\"value\": \"Matilde Ghibaudi\", \"type\": \"text\"}, \"Location\": {\"value\": \"GBB_-20 common reagents 1\", \"type\": \"text\"}, \"Sub-location\": {\"value\": \"Antibodies box\", \"type\": \"text\"}, \"Location Details\": {\"value\": \"\", \"type\": \"text\"}, \"Price\": {\"value\": \"\", \"type\": \"number\"}, \"Amount in Stock\": {\"value\": \"\", \"type\": \"text\"}, \"Amount in Stock Units\": {\"value\": \"units\", \"type\": \"text\"}, \"Min to Stock\": {\"value\": \"\", \"type\": \"text\"}, \"Max to Stock\": {\"value\": \"\", \"type\": \"text\"}, \"Unit Size\": {\"value\": \"\", \"type\": \"text\"}, \"URL\": {\"value\": \"\", \"type\": \"url\"}, \"Technical Details\": {\"value\": \"\", \"type\": \"text\"}, \"Expiration Date\": {\"value\": \"\", \"type\": \"text\"}, \"Lot Number\": {\"value\": \"\", \"type\": \"text\"}, \"CAS Number\": {\"value\": \"\", \"type\": \"text\"}, \"Alternate Name\": {\"value\": \"\", \"type\": \"text\"}, \"Antigen\": {\"value\": \"\", \"type\": \"text\"}, \"Applications\": {\"value\": \"\", \"type\": \"text\"}, \"Bottle Reference\": {\"value\": \"\", \"type\": \"text\"}, \"Clonality\": {\"value\": \"\", \"type\": \"text\"}, \"Clone\": {\"value\": \"\", \"type\": \"text\"}, \"Concentration\": {\"value\": \"\", \"type\": \"text\"}, \"Conjugation\": {\"value\": \"\", \"type\": \"text\"}, \"Date Opened\": {\"value\": \"\", \"type\": \"text\"}, \"Epitope\": {\"value\": \"\", \"type\": \"text\"}, \"Formula\": {\"value\": \"\", \"type\": \"text\"}, \"Isotype\": {\"value\": \"\", \"type\": \"text\"}, \"Lifespan\": {\"value\": \"\", \"type\": \"text\"}, \"Molecular Weight\": {\"value\": \"\", \"type\": \"text\"}, \"Physical State\": {\"value\": \"\", \"type\": \"text\"}, \"Primary vs Secondary\": {\"value\": \"Primary\", \"type\": \"select\", \"options\": [\"Primary\", \"Secondary\"]}, \"Purity\": {\"value\": \"\", \"type\": \"text\"}, \"Raised in\": {\"value\": \"\", \"type\": \"select\", \"options\": [\"Rabbit\", \"Mouse\"]}, \"Recognizes\": {\"value\": [\"\"], \"type\": \"select\", \"allow_multi_values\": true, \"options\": [\"Ape\", \"Chicken\", \"Dog\", \"Goat\", \"Guinea Pig\", \"Hamster\", \"Human\", \"Mink\", \"Monkey\", \"Mouse\", \"Rabbit\", \"Rat\", \"Sheep\", \"Zebrafish\"]}, \"Contact Person\": {\"value\": \"\", \"type\": \"text\"}, \"Contact Phone\": {\"value\": \"\", \"type\": \"text\"}, \"Date Installed\": {\"value\": \"\", \"type\": \"text\"}, \"Date Purchased\": {\"value\": \"\", \"type\": \"text\"}, \"Maintenance History\": {\"value\": \"\", \"type\": \"text\"}, \"Serial #\": {\"value\": \"\", \"type\": \"text\"}, \"University Tag #\": {\"value\": \"\", \"type\": \"text\"}, \"Molecular Weight *\": {\"value\": \"\", \"type\": \"text\"}, \"User *\": {\"value\": \"\", \"type\": \"text\"}, \"User to ask\": {\"value\": \"\", \"type\": \"text\"}}}'}\n",
      "{'title': '(Created via API) Donkey Anti-Rabbit IgG H&L (Alexa Fluor 568)', 'body': '', 'custom_id': 'K00013', 'metadata': '{\"extra_fields\": {\"Type\": {\"value\": \"Antibodies (secondary)\", \"type\": \"text\"}, \"Delete? (Y/N)\": {\"value\": \"N\", \"type\": \"text\"}, \"Serial Number\": {\"value\": \"K00013\", \"type\": \"text\"}, \"Item Name *\": {\"value\": \"(Created via API) Donkey Anti-Rabbit IgG H&L (Alexa Fluor 568)\", \"type\": \"text\"}, \"Vendor\": {\"value\": \"Abcam\", \"type\": \"text\"}, \"Catalog #\": {\"value\": \"ab175470\", \"type\": \"text\"}, \"Owner\": {\"value\": \"Matilde Ghibaudi\", \"type\": \"text\"}, \"Location\": {\"value\": \"GBB_-20 common reagents 1\", \"type\": \"text\"}, \"Sub-location\": {\"value\": \"Antibodies box\", \"type\": \"text\"}, \"Location Details\": {\"value\": \"\", \"type\": \"text\"}, \"Price\": {\"value\": \"\", \"type\": \"number\"}, \"Amount in Stock\": {\"value\": \"\", \"type\": \"text\"}, \"Amount in Stock Units\": {\"value\": \"units\", \"type\": \"text\"}, \"Min to Stock\": {\"value\": \"\", \"type\": \"text\"}, \"Max to Stock\": {\"value\": \"\", \"type\": \"text\"}, \"Unit Size\": {\"value\": \"\", \"type\": \"text\"}, \"URL\": {\"value\": \"\", \"type\": \"url\"}, \"Technical Details\": {\"value\": \"\", \"type\": \"text\"}, \"Expiration Date\": {\"value\": \"\", \"type\": \"text\"}, \"Lot Number\": {\"value\": \"\", \"type\": \"text\"}, \"CAS Number\": {\"value\": \"\", \"type\": \"text\"}, \"Alternate Name\": {\"value\": \"\", \"type\": \"text\"}, \"Antigen\": {\"value\": \"\", \"type\": \"text\"}, \"Applications\": {\"value\": \"\", \"type\": \"text\"}, \"Bottle Reference\": {\"value\": \"\", \"type\": \"text\"}, \"Clonality\": {\"value\": \"\", \"type\": \"text\"}, \"Clone\": {\"value\": \"\", \"type\": \"text\"}, \"Concentration\": {\"value\": \"\", \"type\": \"text\"}, \"Conjugation\": {\"value\": \"\", \"type\": \"text\"}, \"Date Opened\": {\"value\": \"\", \"type\": \"text\"}, \"Epitope\": {\"value\": \"\", \"type\": \"text\"}, \"Formula\": {\"value\": \"\", \"type\": \"text\"}, \"Isotype\": {\"value\": \"\", \"type\": \"text\"}, \"Lifespan\": {\"value\": \"\", \"type\": \"text\"}, \"Molecular Weight\": {\"value\": \"\", \"type\": \"text\"}, \"Physical State\": {\"value\": \"\", \"type\": \"text\"}, \"Primary vs Secondary\": {\"value\": \"Primary\", \"type\": \"select\", \"options\": [\"Primary\", \"Secondary\"]}, \"Purity\": {\"value\": \"\", \"type\": \"text\"}, \"Raised in\": {\"value\": \"\", \"type\": \"select\", \"options\": [\"Rabbit\", \"Mouse\"]}, \"Recognizes\": {\"value\": [\"\"], \"type\": \"select\", \"allow_multi_values\": true, \"options\": [\"Ape\", \"Chicken\", \"Dog\", \"Goat\", \"Guinea Pig\", \"Hamster\", \"Human\", \"Mink\", \"Monkey\", \"Mouse\", \"Rabbit\", \"Rat\", \"Sheep\", \"Zebrafish\"]}, \"Contact Person\": {\"value\": \"\", \"type\": \"text\"}, \"Contact Phone\": {\"value\": \"\", \"type\": \"text\"}, \"Date Installed\": {\"value\": \"\", \"type\": \"text\"}, \"Date Purchased\": {\"value\": \"\", \"type\": \"text\"}, \"Maintenance History\": {\"value\": \"\", \"type\": \"text\"}, \"Serial #\": {\"value\": \"\", \"type\": \"text\"}, \"University Tag #\": {\"value\": \"\", \"type\": \"text\"}, \"Molecular Weight *\": {\"value\": \"\", \"type\": \"text\"}, \"User *\": {\"value\": \"\", \"type\": \"text\"}, \"User to ask\": {\"value\": \"\", \"type\": \"text\"}}}'}\n",
      "{'title': '(Created via API) DyLight™ 488 Goat anti-mouse IgG (minimal x-reactivity) Antibody', 'body': '', 'custom_id': 'K00014', 'metadata': '{\"extra_fields\": {\"Type\": {\"value\": \"Antibodies (secondary)\", \"type\": \"text\"}, \"Delete? (Y/N)\": {\"value\": \"N\", \"type\": \"text\"}, \"Serial Number\": {\"value\": \"K00014\", \"type\": \"text\"}, \"Item Name *\": {\"value\": \"(Created via API) DyLight\\\\u2122 488 Goat anti-mouse IgG (minimal x-reactivity) Antibody\", \"type\": \"text\"}, \"Vendor\": {\"value\": \"Palex Medical\", \"type\": \"text\"}, \"Catalog #\": {\"value\": \"405310\", \"type\": \"text\"}, \"Owner\": {\"value\": \"Matilde Ghibaudi\", \"type\": \"text\"}, \"Location\": {\"value\": \"GBB_4 degrees reagents 1 blue box\", \"type\": \"text\"}, \"Sub-location\": {\"value\": \"\", \"type\": \"text\"}, \"Location Details\": {\"value\": \"\", \"type\": \"text\"}, \"Price\": {\"value\": \"\", \"type\": \"number\"}, \"Amount in Stock\": {\"value\": \"\", \"type\": \"text\"}, \"Amount in Stock Units\": {\"value\": \"units\", \"type\": \"text\"}, \"Min to Stock\": {\"value\": \"\", \"type\": \"text\"}, \"Max to Stock\": {\"value\": \"\", \"type\": \"text\"}, \"Unit Size\": {\"value\": \"\", \"type\": \"text\"}, \"URL\": {\"value\": \"\", \"type\": \"url\"}, \"Technical Details\": {\"value\": \"\", \"type\": \"text\"}, \"Expiration Date\": {\"value\": \"\", \"type\": \"text\"}, \"Lot Number\": {\"value\": \"\", \"type\": \"text\"}, \"CAS Number\": {\"value\": \"\", \"type\": \"text\"}, \"Alternate Name\": {\"value\": \"\", \"type\": \"text\"}, \"Antigen\": {\"value\": \"\", \"type\": \"text\"}, \"Applications\": {\"value\": \"\", \"type\": \"text\"}, \"Bottle Reference\": {\"value\": \"\", \"type\": \"text\"}, \"Clonality\": {\"value\": \"\", \"type\": \"text\"}, \"Clone\": {\"value\": \"\", \"type\": \"text\"}, \"Concentration\": {\"value\": \"\", \"type\": \"text\"}, \"Conjugation\": {\"value\": \"\", \"type\": \"text\"}, \"Date Opened\": {\"value\": \"\", \"type\": \"text\"}, \"Epitope\": {\"value\": \"\", \"type\": \"text\"}, \"Formula\": {\"value\": \"\", \"type\": \"text\"}, \"Isotype\": {\"value\": \"\", \"type\": \"text\"}, \"Lifespan\": {\"value\": \"\", \"type\": \"text\"}, \"Molecular Weight\": {\"value\": \"\", \"type\": \"text\"}, \"Physical State\": {\"value\": \"\", \"type\": \"text\"}, \"Primary vs Secondary\": {\"value\": \"Primary\", \"type\": \"select\", \"options\": [\"Primary\", \"Secondary\"]}, \"Purity\": {\"value\": \"\", \"type\": \"text\"}, \"Raised in\": {\"value\": \"\", \"type\": \"select\", \"options\": [\"Rabbit\", \"Mouse\"]}, \"Recognizes\": {\"value\": [\"\"], \"type\": \"select\", \"allow_multi_values\": true, \"options\": [\"Ape\", \"Chicken\", \"Dog\", \"Goat\", \"Guinea Pig\", \"Hamster\", \"Human\", \"Mink\", \"Monkey\", \"Mouse\", \"Rabbit\", \"Rat\", \"Sheep\", \"Zebrafish\"]}, \"Contact Person\": {\"value\": \"\", \"type\": \"text\"}, \"Contact Phone\": {\"value\": \"\", \"type\": \"text\"}, \"Date Installed\": {\"value\": \"\", \"type\": \"text\"}, \"Date Purchased\": {\"value\": \"\", \"type\": \"text\"}, \"Maintenance History\": {\"value\": \"\", \"type\": \"text\"}, \"Serial #\": {\"value\": \"\", \"type\": \"text\"}, \"University Tag #\": {\"value\": \"\", \"type\": \"text\"}, \"Molecular Weight *\": {\"value\": \"\", \"type\": \"text\"}, \"User *\": {\"value\": \"\", \"type\": \"text\"}, \"User to ask\": {\"value\": \"\", \"type\": \"text\"}}}'}\n",
      "{'title': \"(Created via API) F(ab')2-Goat anti-Rabbit IgG (H+L) Secondary Antibody, NANOGOLD\", 'body': '', 'custom_id': 'K00016', 'metadata': '{\"extra_fields\": {\"Type\": {\"value\": \"Antibodies (secondary)\", \"type\": \"text\"}, \"Delete? (Y/N)\": {\"value\": \"N\", \"type\": \"text\"}, \"Serial Number\": {\"value\": \"K00016\", \"type\": \"text\"}, \"Item Name *\": {\"value\": \"(Created via API) F(ab\\')2-Goat anti-Rabbit IgG (H+L) Secondary Antibody, NANOGOLD\", \"type\": \"text\"}, \"Vendor\": {\"value\": \"LifeTechnologies\", \"type\": \"text\"}, \"Catalog #\": {\"value\": \"N24916\", \"type\": \"text\"}, \"Owner\": {\"value\": \"Catia Lopes\", \"type\": \"text\"}, \"Location\": {\"value\": \"GBB_4 degrees\", \"type\": \"text\"}, \"Sub-location\": {\"value\": \"Catia box\", \"type\": \"text\"}, \"Location Details\": {\"value\": \"\", \"type\": \"text\"}, \"Price\": {\"value\": \"\", \"type\": \"number\"}, \"Amount in Stock\": {\"value\": \"\", \"type\": \"text\"}, \"Amount in Stock Units\": {\"value\": \"units\", \"type\": \"text\"}, \"Min to Stock\": {\"value\": \"\", \"type\": \"text\"}, \"Max to Stock\": {\"value\": \"\", \"type\": \"text\"}, \"Unit Size\": {\"value\": \"\", \"type\": \"text\"}, \"URL\": {\"value\": \"\", \"type\": \"url\"}, \"Technical Details\": {\"value\": \"\", \"type\": \"text\"}, \"Expiration Date\": {\"value\": \"\", \"type\": \"text\"}, \"Lot Number\": {\"value\": \"\", \"type\": \"text\"}, \"CAS Number\": {\"value\": \"\", \"type\": \"text\"}, \"Alternate Name\": {\"value\": \"\", \"type\": \"text\"}, \"Antigen\": {\"value\": \"\", \"type\": \"text\"}, \"Applications\": {\"value\": \"\", \"type\": \"text\"}, \"Bottle Reference\": {\"value\": \"\", \"type\": \"text\"}, \"Clonality\": {\"value\": \"\", \"type\": \"text\"}, \"Clone\": {\"value\": \"\", \"type\": \"text\"}, \"Concentration\": {\"value\": \"\", \"type\": \"text\"}, \"Conjugation\": {\"value\": \"\", \"type\": \"text\"}, \"Date Opened\": {\"value\": \"\", \"type\": \"text\"}, \"Epitope\": {\"value\": \"\", \"type\": \"text\"}, \"Formula\": {\"value\": \"\", \"type\": \"text\"}, \"Isotype\": {\"value\": \"\", \"type\": \"text\"}, \"Lifespan\": {\"value\": \"\", \"type\": \"text\"}, \"Molecular Weight\": {\"value\": \"\", \"type\": \"text\"}, \"Physical State\": {\"value\": \"\", \"type\": \"text\"}, \"Primary vs Secondary\": {\"value\": \"Primary\", \"type\": \"select\", \"options\": [\"Primary\", \"Secondary\"]}, \"Purity\": {\"value\": \"\", \"type\": \"text\"}, \"Raised in\": {\"value\": \"\", \"type\": \"select\", \"options\": [\"Rabbit\", \"Mouse\"]}, \"Recognizes\": {\"value\": [\"\"], \"type\": \"select\", \"allow_multi_values\": true, \"options\": [\"Ape\", \"Chicken\", \"Dog\", \"Goat\", \"Guinea Pig\", \"Hamster\", \"Human\", \"Mink\", \"Monkey\", \"Mouse\", \"Rabbit\", \"Rat\", \"Sheep\", \"Zebrafish\"]}, \"Contact Person\": {\"value\": \"\", \"type\": \"text\"}, \"Contact Phone\": {\"value\": \"\", \"type\": \"text\"}, \"Date Installed\": {\"value\": \"\", \"type\": \"text\"}, \"Date Purchased\": {\"value\": \"\", \"type\": \"text\"}, \"Maintenance History\": {\"value\": \"\", \"type\": \"text\"}, \"Serial #\": {\"value\": \"\", \"type\": \"text\"}, \"University Tag #\": {\"value\": \"\", \"type\": \"text\"}, \"Molecular Weight *\": {\"value\": \"\", \"type\": \"text\"}, \"User *\": {\"value\": \"\", \"type\": \"text\"}, \"User to ask\": {\"value\": \"\", \"type\": \"text\"}}}'}\n",
      "{'title': '(Created via API) Epithelial Volt/Ohm (TEER) Meter 3', 'body': '', 'custom_id': 'E00054', 'metadata': '{\"extra_fields\": {\"Type\": {\"value\": \"Equipment\", \"type\": \"text\"}, \"Delete? (Y/N)\": {\"value\": \"N\", \"type\": \"text\"}, \"Serial Number\": {\"value\": \"E00054\", \"type\": \"text\"}, \"Item Name *\": {\"value\": \"(Created via API) Epithelial Volt/Ohm (TEER) Meter 3\", \"type\": \"text\"}, \"Vendor\": {\"value\": \"World Precision Instruments\", \"type\": \"text\"}, \"Catalog #\": {\"value\": \"EVOM3\", \"type\": \"text\"}, \"Owner\": {\"value\": \"Matilde Ghibaudi\", \"type\": \"text\"}, \"Location\": {\"value\": \"GBB_confocal room\", \"type\": \"text\"}, \"Sub-location\": {\"value\": \"\", \"type\": \"text\"}, \"Location Details\": {\"value\": \"\", \"type\": \"text\"}, \"Price\": {\"value\": \"\", \"type\": \"number\"}, \"Amount in Stock\": {\"value\": \"1.0\", \"type\": \"text\"}, \"Amount in Stock Units\": {\"value\": \"units\", \"type\": \"text\"}, \"Min to Stock\": {\"value\": \"\", \"type\": \"text\"}, \"Max to Stock\": {\"value\": \"\", \"type\": \"text\"}, \"Unit Size\": {\"value\": \"1/EA\", \"type\": \"text\"}, \"URL\": {\"value\": \"\", \"type\": \"url\"}, \"Technical Details\": {\"value\": \"\", \"type\": \"text\"}, \"Expiration Date\": {\"value\": \"\", \"type\": \"text\"}, \"Lot Number\": {\"value\": \"\", \"type\": \"text\"}, \"CAS Number\": {\"value\": \"\", \"type\": \"text\"}, \"Alternate Name\": {\"value\": \"\", \"type\": \"text\"}, \"Antigen\": {\"value\": \"\", \"type\": \"text\"}, \"Applications\": {\"value\": \"\", \"type\": \"text\"}, \"Bottle Reference\": {\"value\": \"\", \"type\": \"text\"}, \"Clonality\": {\"value\": \"\", \"type\": \"text\"}, \"Clone\": {\"value\": \"\", \"type\": \"text\"}, \"Concentration\": {\"value\": \"\", \"type\": \"text\"}, \"Conjugation\": {\"value\": \"\", \"type\": \"text\"}, \"Date Opened\": {\"value\": \"\", \"type\": \"text\"}, \"Epitope\": {\"value\": \"\", \"type\": \"text\"}, \"Formula\": {\"value\": \"\", \"type\": \"text\"}, \"Isotype\": {\"value\": \"\", \"type\": \"text\"}, \"Lifespan\": {\"value\": \"\", \"type\": \"text\"}, \"Molecular Weight\": {\"value\": \"\", \"type\": \"text\"}, \"Physical State\": {\"value\": \"\", \"type\": \"text\"}, \"Primary vs Secondary\": {\"value\": \"Primary\", \"type\": \"select\", \"options\": [\"Primary\", \"Secondary\"]}, \"Purity\": {\"value\": \"\", \"type\": \"text\"}, \"Raised in\": {\"value\": \"\", \"type\": \"select\", \"options\": [\"Rabbit\", \"Mouse\"]}, \"Recognizes\": {\"value\": [\"\"], \"type\": \"select\", \"allow_multi_values\": true, \"options\": [\"Ape\", \"Chicken\", \"Dog\", \"Goat\", \"Guinea Pig\", \"Hamster\", \"Human\", \"Mink\", \"Monkey\", \"Mouse\", \"Rabbit\", \"Rat\", \"Sheep\", \"Zebrafish\"]}, \"Contact Person\": {\"value\": \"\", \"type\": \"text\"}, \"Contact Phone\": {\"value\": \"\", \"type\": \"text\"}, \"Date Installed\": {\"value\": \"\", \"type\": \"text\"}, \"Date Purchased\": {\"value\": \"\", \"type\": \"text\"}, \"Maintenance History\": {\"value\": \"\", \"type\": \"text\"}, \"Serial #\": {\"value\": \"\", \"type\": \"text\"}, \"University Tag #\": {\"value\": \"\", \"type\": \"text\"}, \"Molecular Weight *\": {\"value\": \"\", \"type\": \"text\"}, \"User *\": {\"value\": \"\", \"type\": \"text\"}, \"User to ask\": {\"value\": \"\", \"type\": \"text\"}}}'}\n",
      "{'title': '(Created via API) Quintessential Stereotaxic Injector (QSI)', 'body': '', 'custom_id': 'E00078', 'metadata': '{\"extra_fields\": {\"Type\": {\"value\": \"Equipment\", \"type\": \"text\"}, \"Delete? (Y/N)\": {\"value\": \"N\", \"type\": \"text\"}, \"Serial Number\": {\"value\": \"E00078\", \"type\": \"text\"}, \"Item Name *\": {\"value\": \"(Created via API) Quintessential Stereotaxic Injector (QSI)\", \"type\": \"text\"}, \"Vendor\": {\"value\": \"Stoelting\", \"type\": \"text\"}, \"Catalog #\": {\"value\": \"53311\", \"type\": \"text\"}, \"Owner\": {\"value\": \"Matilde Ghibaudi\", \"type\": \"text\"}, \"Location\": {\"value\": \"GBQ_cabinet 20\", \"type\": \"text\"}, \"Sub-location\": {\"value\": \"\", \"type\": \"text\"}, \"Location Details\": {\"value\": \"\", \"type\": \"text\"}, \"Price\": {\"value\": \"\", \"type\": \"number\"}, \"Amount in Stock\": {\"value\": \"1.0\", \"type\": \"text\"}, \"Amount in Stock Units\": {\"value\": \"units\", \"type\": \"text\"}, \"Min to Stock\": {\"value\": \"\", \"type\": \"text\"}, \"Max to Stock\": {\"value\": \"\", \"type\": \"text\"}, \"Unit Size\": {\"value\": \"1/EA\", \"type\": \"text\"}, \"URL\": {\"value\": \"\", \"type\": \"url\"}, \"Technical Details\": {\"value\": \"THE INSTRUMENT IS LOCATED IN ANIMAL FACILITY 1-MICE BUT THE BOX IS IN GBQ_CABINET 20\", \"type\": \"text\"}, \"Expiration Date\": {\"value\": \"\", \"type\": \"text\"}, \"Lot Number\": {\"value\": \"\", \"type\": \"text\"}, \"CAS Number\": {\"value\": \"\", \"type\": \"text\"}, \"Alternate Name\": {\"value\": \"\", \"type\": \"text\"}, \"Antigen\": {\"value\": \"\", \"type\": \"text\"}, \"Applications\": {\"value\": \"\", \"type\": \"text\"}, \"Bottle Reference\": {\"value\": \"\", \"type\": \"text\"}, \"Clonality\": {\"value\": \"\", \"type\": \"text\"}, \"Clone\": {\"value\": \"\", \"type\": \"text\"}, \"Concentration\": {\"value\": \"\", \"type\": \"text\"}, \"Conjugation\": {\"value\": \"\", \"type\": \"text\"}, \"Date Opened\": {\"value\": \"\", \"type\": \"text\"}, \"Epitope\": {\"value\": \"\", \"type\": \"text\"}, \"Formula\": {\"value\": \"\", \"type\": \"text\"}, \"Isotype\": {\"value\": \"\", \"type\": \"text\"}, \"Lifespan\": {\"value\": \"\", \"type\": \"text\"}, \"Molecular Weight\": {\"value\": \"\", \"type\": \"text\"}, \"Physical State\": {\"value\": \"\", \"type\": \"text\"}, \"Primary vs Secondary\": {\"value\": \"Primary\", \"type\": \"select\", \"options\": [\"Primary\", \"Secondary\"]}, \"Purity\": {\"value\": \"\", \"type\": \"text\"}, \"Raised in\": {\"value\": \"\", \"type\": \"select\", \"options\": [\"Rabbit\", \"Mouse\"]}, \"Recognizes\": {\"value\": [\"\"], \"type\": \"select\", \"allow_multi_values\": true, \"options\": [\"Ape\", \"Chicken\", \"Dog\", \"Goat\", \"Guinea Pig\", \"Hamster\", \"Human\", \"Mink\", \"Monkey\", \"Mouse\", \"Rabbit\", \"Rat\", \"Sheep\", \"Zebrafish\"]}, \"Contact Person\": {\"value\": \"\", \"type\": \"text\"}, \"Contact Phone\": {\"value\": \"\", \"type\": \"text\"}, \"Date Installed\": {\"value\": \"\", \"type\": \"text\"}, \"Date Purchased\": {\"value\": \"\", \"type\": \"text\"}, \"Maintenance History\": {\"value\": \"\", \"type\": \"text\"}, \"Serial #\": {\"value\": \"\", \"type\": \"text\"}, \"University Tag #\": {\"value\": \"\", \"type\": \"text\"}, \"Molecular Weight *\": {\"value\": \"\", \"type\": \"text\"}, \"User *\": {\"value\": \"\", \"type\": \"text\"}, \"User to ask\": {\"value\": \"\", \"type\": \"text\"}}}'}\n",
      "{'title': '(Created via API) Conductivity measure equipment', 'body': '', 'custom_id': 'E00144', 'metadata': '{\"extra_fields\": {\"Type\": {\"value\": \"Equipment\", \"type\": \"text\"}, \"Delete? (Y/N)\": {\"value\": \"N\", \"type\": \"text\"}, \"Serial Number\": {\"value\": \"E00144\", \"type\": \"text\"}, \"Item Name *\": {\"value\": \"(Created via API) Conductivity measure equipment\", \"type\": \"text\"}, \"Vendor\": {\"value\": \"Amazon\", \"type\": \"text\"}, \"Catalog #\": {\"value\": \"\", \"type\": \"text\"}, \"Owner\": {\"value\": \"Matilde Ghibaudi\", \"type\": \"text\"}, \"Location\": {\"value\": \"GBQ_balance bench\", \"type\": \"text\"}, \"Sub-location\": {\"value\": \"\", \"type\": \"text\"}, \"Location Details\": {\"value\": \"\", \"type\": \"text\"}, \"Price\": {\"value\": \"\", \"type\": \"number\"}, \"Amount in Stock\": {\"value\": \"\", \"type\": \"text\"}, \"Amount in Stock Units\": {\"value\": \"units\", \"type\": \"text\"}, \"Min to Stock\": {\"value\": \"\", \"type\": \"text\"}, \"Max to Stock\": {\"value\": \"\", \"type\": \"text\"}, \"Unit Size\": {\"value\": \"\", \"type\": \"text\"}, \"URL\": {\"value\": \"https://www.amazon.es/Apera-instrumentos-ai314-bolsillo-EC60-Premium-conductividad/dp/B01ESYG70K?ref_=ast_sto_dp&th=1\", \"type\": \"url\"}, \"Technical Details\": {\"value\": \"\", \"type\": \"text\"}, \"Expiration Date\": {\"value\": \"\", \"type\": \"text\"}, \"Lot Number\": {\"value\": \"\", \"type\": \"text\"}, \"CAS Number\": {\"value\": \"\", \"type\": \"text\"}, \"Alternate Name\": {\"value\": \"\", \"type\": \"text\"}, \"Antigen\": {\"value\": \"\", \"type\": \"text\"}, \"Applications\": {\"value\": \"\", \"type\": \"text\"}, \"Bottle Reference\": {\"value\": \"\", \"type\": \"text\"}, \"Clonality\": {\"value\": \"\", \"type\": \"text\"}, \"Clone\": {\"value\": \"\", \"type\": \"text\"}, \"Concentration\": {\"value\": \"\", \"type\": \"text\"}, \"Conjugation\": {\"value\": \"\", \"type\": \"text\"}, \"Date Opened\": {\"value\": \"\", \"type\": \"text\"}, \"Epitope\": {\"value\": \"\", \"type\": \"text\"}, \"Formula\": {\"value\": \"\", \"type\": \"text\"}, \"Isotype\": {\"value\": \"\", \"type\": \"text\"}, \"Lifespan\": {\"value\": \"\", \"type\": \"text\"}, \"Molecular Weight\": {\"value\": \"\", \"type\": \"text\"}, \"Physical State\": {\"value\": \"\", \"type\": \"text\"}, \"Primary vs Secondary\": {\"value\": \"Primary\", \"type\": \"select\", \"options\": [\"Primary\", \"Secondary\"]}, \"Purity\": {\"value\": \"\", \"type\": \"text\"}, \"Raised in\": {\"value\": \"\", \"type\": \"select\", \"options\": [\"Rabbit\", \"Mouse\"]}, \"Recognizes\": {\"value\": [\"\"], \"type\": \"select\", \"allow_multi_values\": true, \"options\": [\"Ape\", \"Chicken\", \"Dog\", \"Goat\", \"Guinea Pig\", \"Hamster\", \"Human\", \"Mink\", \"Monkey\", \"Mouse\", \"Rabbit\", \"Rat\", \"Sheep\", \"Zebrafish\"]}, \"Contact Person\": {\"value\": \"\", \"type\": \"text\"}, \"Contact Phone\": {\"value\": \"\", \"type\": \"text\"}, \"Date Installed\": {\"value\": \"\", \"type\": \"text\"}, \"Date Purchased\": {\"value\": \"\", \"type\": \"text\"}, \"Maintenance History\": {\"value\": \"\", \"type\": \"text\"}, \"Serial #\": {\"value\": \"\", \"type\": \"text\"}, \"University Tag #\": {\"value\": \"\", \"type\": \"text\"}, \"Molecular Weight *\": {\"value\": \"\", \"type\": \"text\"}, \"User *\": {\"value\": \"\", \"type\": \"text\"}, \"User to ask\": {\"value\": \"\", \"type\": \"text\"}}}'}\n",
      "{'title': '(Created via API) Fluorescein isothiocyanate isomer I', 'body': '', 'custom_id': 'J00002', 'metadata': '{\"extra_fields\": {\"Type\": {\"value\": \"Fluorophores GBQ\", \"type\": \"text\"}, \"Delete? (Y/N)\": {\"value\": \"N\", \"type\": \"text\"}, \"Serial Number\": {\"value\": \"J00002\", \"type\": \"text\"}, \"Item Name *\": {\"value\": \"(Created via API) Fluorescein isothiocyanate isomer I\", \"type\": \"text\"}, \"Vendor\": {\"value\": \"Sigma Aldrich\", \"type\": \"text\"}, \"Catalog #\": {\"value\": \"77250-500MG\", \"type\": \"text\"}, \"Owner\": {\"value\": \"Vanina Cosenza\", \"type\": \"text\"}, \"Location\": {\"value\": \"GBQ_freezer\", \"type\": \"text\"}, \"Sub-location\": {\"value\": \"Common drawer\", \"type\": \"text\"}, \"Location Details\": {\"value\": \"\", \"type\": \"text\"}, \"Price\": {\"value\": \"\", \"type\": \"number\"}, \"Amount in Stock\": {\"value\": \"\", \"type\": \"text\"}, \"Amount in Stock Units\": {\"value\": \"units\", \"type\": \"text\"}, \"Min to Stock\": {\"value\": \"\", \"type\": \"text\"}, \"Max to Stock\": {\"value\": \"\", \"type\": \"text\"}, \"Unit Size\": {\"value\": \"500 mg\", \"type\": \"text\"}, \"URL\": {\"value\": \"\", \"type\": \"url\"}, \"Technical Details\": {\"value\": \"\", \"type\": \"text\"}, \"Expiration Date\": {\"value\": \"\", \"type\": \"text\"}, \"Lot Number\": {\"value\": \"\", \"type\": \"text\"}, \"CAS Number\": {\"value\": \"\", \"type\": \"text\"}, \"Alternate Name\": {\"value\": \"\", \"type\": \"text\"}, \"Antigen\": {\"value\": \"\", \"type\": \"text\"}, \"Applications\": {\"value\": \"\", \"type\": \"text\"}, \"Bottle Reference\": {\"value\": \"\", \"type\": \"text\"}, \"Clonality\": {\"value\": \"\", \"type\": \"text\"}, \"Clone\": {\"value\": \"\", \"type\": \"text\"}, \"Concentration\": {\"value\": \"\", \"type\": \"text\"}, \"Conjugation\": {\"value\": \"\", \"type\": \"text\"}, \"Date Opened\": {\"value\": \"\", \"type\": \"text\"}, \"Epitope\": {\"value\": \"\", \"type\": \"text\"}, \"Formula\": {\"value\": \"\", \"type\": \"text\"}, \"Isotype\": {\"value\": \"\", \"type\": \"text\"}, \"Lifespan\": {\"value\": \"\", \"type\": \"text\"}, \"Molecular Weight\": {\"value\": \"\", \"type\": \"text\"}, \"Physical State\": {\"value\": \"\", \"type\": \"text\"}, \"Primary vs Secondary\": {\"value\": \"Primary\", \"type\": \"select\", \"options\": [\"Primary\", \"Secondary\"]}, \"Purity\": {\"value\": \"\", \"type\": \"text\"}, \"Raised in\": {\"value\": \"\", \"type\": \"select\", \"options\": [\"Rabbit\", \"Mouse\"]}, \"Recognizes\": {\"value\": [\"\"], \"type\": \"select\", \"allow_multi_values\": true, \"options\": [\"Ape\", \"Chicken\", \"Dog\", \"Goat\", \"Guinea Pig\", \"Hamster\", \"Human\", \"Mink\", \"Monkey\", \"Mouse\", \"Rabbit\", \"Rat\", \"Sheep\", \"Zebrafish\"]}, \"Contact Person\": {\"value\": \"\", \"type\": \"text\"}, \"Contact Phone\": {\"value\": \"\", \"type\": \"text\"}, \"Date Installed\": {\"value\": \"\", \"type\": \"text\"}, \"Date Purchased\": {\"value\": \"\", \"type\": \"text\"}, \"Maintenance History\": {\"value\": \"\", \"type\": \"text\"}, \"Serial #\": {\"value\": \"\", \"type\": \"text\"}, \"University Tag #\": {\"value\": \"\", \"type\": \"text\"}, \"Molecular Weight *\": {\"value\": \"0.0\", \"type\": \"text\"}, \"User *\": {\"value\": \"Vanina Cosenza\", \"type\": \"text\"}, \"User to ask\": {\"value\": \"\", \"type\": \"text\"}}}'}\n",
      "{'title': '(Created via API) 5-FAM-Cys-NH2', 'body': '', 'custom_id': 'J00011', 'metadata': '{\"extra_fields\": {\"Type\": {\"value\": \"Fluorophores GBQ\", \"type\": \"text\"}, \"Delete? (Y/N)\": {\"value\": \"N\", \"type\": \"text\"}, \"Serial Number\": {\"value\": \"J00011\", \"type\": \"text\"}, \"Item Name *\": {\"value\": \"(Created via API) 5-FAM-Cys-NH2\", \"type\": \"text\"}, \"Vendor\": {\"value\": \"??\", \"type\": \"text\"}, \"Catalog #\": {\"value\": \"O8738\", \"type\": \"text\"}, \"Owner\": {\"value\": \"Vanina Cosenza\", \"type\": \"text\"}, \"Location\": {\"value\": \"GBQ_freezer\", \"type\": \"text\"}, \"Sub-location\": {\"value\": \"Common drawer\", \"type\": \"text\"}, \"Location Details\": {\"value\": \"London dye bag\", \"type\": \"text\"}, \"Price\": {\"value\": \"\", \"type\": \"number\"}, \"Amount in Stock\": {\"value\": \"\", \"type\": \"text\"}, \"Amount in Stock Units\": {\"value\": \"units\", \"type\": \"text\"}, \"Min to Stock\": {\"value\": \"\", \"type\": \"text\"}, \"Max to Stock\": {\"value\": \"\", \"type\": \"text\"}, \"Unit Size\": {\"value\": \"\", \"type\": \"text\"}, \"URL\": {\"value\": \"\", \"type\": \"url\"}, \"Technical Details\": {\"value\": \"\", \"type\": \"text\"}, \"Expiration Date\": {\"value\": \"\", \"type\": \"text\"}, \"Lot Number\": {\"value\": \"\", \"type\": \"text\"}, \"CAS Number\": {\"value\": \"\", \"type\": \"text\"}, \"Alternate Name\": {\"value\": \"\", \"type\": \"text\"}, \"Antigen\": {\"value\": \"\", \"type\": \"text\"}, \"Applications\": {\"value\": \"\", \"type\": \"text\"}, \"Bottle Reference\": {\"value\": \"\", \"type\": \"text\"}, \"Clonality\": {\"value\": \"\", \"type\": \"text\"}, \"Clone\": {\"value\": \"\", \"type\": \"text\"}, \"Concentration\": {\"value\": \"\", \"type\": \"text\"}, \"Conjugation\": {\"value\": \"\", \"type\": \"text\"}, \"Date Opened\": {\"value\": \"\", \"type\": \"text\"}, \"Epitope\": {\"value\": \"\", \"type\": \"text\"}, \"Formula\": {\"value\": \"\", \"type\": \"text\"}, \"Isotype\": {\"value\": \"\", \"type\": \"text\"}, \"Lifespan\": {\"value\": \"\", \"type\": \"text\"}, \"Molecular Weight\": {\"value\": \"\", \"type\": \"text\"}, \"Physical State\": {\"value\": \"\", \"type\": \"text\"}, \"Primary vs Secondary\": {\"value\": \"Primary\", \"type\": \"select\", \"options\": [\"Primary\", \"Secondary\"]}, \"Purity\": {\"value\": \"\", \"type\": \"text\"}, \"Raised in\": {\"value\": \"\", \"type\": \"select\", \"options\": [\"Rabbit\", \"Mouse\"]}, \"Recognizes\": {\"value\": [\"\"], \"type\": \"select\", \"allow_multi_values\": true, \"options\": [\"Ape\", \"Chicken\", \"Dog\", \"Goat\", \"Guinea Pig\", \"Hamster\", \"Human\", \"Mink\", \"Monkey\", \"Mouse\", \"Rabbit\", \"Rat\", \"Sheep\", \"Zebrafish\"]}, \"Contact Person\": {\"value\": \"\", \"type\": \"text\"}, \"Contact Phone\": {\"value\": \"\", \"type\": \"text\"}, \"Date Installed\": {\"value\": \"\", \"type\": \"text\"}, \"Date Purchased\": {\"value\": \"\", \"type\": \"text\"}, \"Maintenance History\": {\"value\": \"\", \"type\": \"text\"}, \"Serial #\": {\"value\": \"\", \"type\": \"text\"}, \"University Tag #\": {\"value\": \"\", \"type\": \"text\"}, \"Molecular Weight *\": {\"value\": \"0.0\", \"type\": \"text\"}, \"User *\": {\"value\": \"general use\", \"type\": \"text\"}, \"User to ask\": {\"value\": \"\", \"type\": \"text\"}}}'}\n",
      "{'title': '(Created via API) 5-FAM-alkyne', 'body': '', 'custom_id': 'J00012', 'metadata': '{\"extra_fields\": {\"Type\": {\"value\": \"Fluorophores GBQ\", \"type\": \"text\"}, \"Delete? (Y/N)\": {\"value\": \"N\", \"type\": \"text\"}, \"Serial Number\": {\"value\": \"J00012\", \"type\": \"text\"}, \"Item Name *\": {\"value\": \"(Created via API) 5-FAM-alkyne\", \"type\": \"text\"}, \"Vendor\": {\"value\": \"Lumiprobe\", \"type\": \"text\"}, \"Catalog #\": {\"value\": \"C41B0\", \"type\": \"text\"}, \"Owner\": {\"value\": \"Vanina Cosenza\", \"type\": \"text\"}, \"Location\": {\"value\": \"GBQ_freezer\", \"type\": \"text\"}, \"Sub-location\": {\"value\": \"Common drawer\", \"type\": \"text\"}, \"Location Details\": {\"value\": \"London dye bag\", \"type\": \"text\"}, \"Price\": {\"value\": \"\", \"type\": \"number\"}, \"Amount in Stock\": {\"value\": \"\", \"type\": \"text\"}, \"Amount in Stock Units\": {\"value\": \"units\", \"type\": \"text\"}, \"Min to Stock\": {\"value\": \"\", \"type\": \"text\"}, \"Max to Stock\": {\"value\": \"\", \"type\": \"text\"}, \"Unit Size\": {\"value\": \"10 mg\", \"type\": \"text\"}, \"URL\": {\"value\": \"https://www.lumiprobe.com/p/fam-alkyne-5\", \"type\": \"url\"}, \"Technical Details\": {\"value\": \"\", \"type\": \"text\"}, \"Expiration Date\": {\"value\": \"\", \"type\": \"text\"}, \"Lot Number\": {\"value\": \"\", \"type\": \"text\"}, \"CAS Number\": {\"value\": \"510758-19-7\", \"type\": \"text\"}, \"Alternate Name\": {\"value\": \"\", \"type\": \"text\"}, \"Antigen\": {\"value\": \"\", \"type\": \"text\"}, \"Applications\": {\"value\": \"\", \"type\": \"text\"}, \"Bottle Reference\": {\"value\": \"\", \"type\": \"text\"}, \"Clonality\": {\"value\": \"\", \"type\": \"text\"}, \"Clone\": {\"value\": \"\", \"type\": \"text\"}, \"Concentration\": {\"value\": \"\", \"type\": \"text\"}, \"Conjugation\": {\"value\": \"\", \"type\": \"text\"}, \"Date Opened\": {\"value\": \"\", \"type\": \"text\"}, \"Epitope\": {\"value\": \"\", \"type\": \"text\"}, \"Formula\": {\"value\": \"\", \"type\": \"text\"}, \"Isotype\": {\"value\": \"\", \"type\": \"text\"}, \"Lifespan\": {\"value\": \"\", \"type\": \"text\"}, \"Molecular Weight\": {\"value\": \"\", \"type\": \"text\"}, \"Physical State\": {\"value\": \"\", \"type\": \"text\"}, \"Primary vs Secondary\": {\"value\": \"Primary\", \"type\": \"select\", \"options\": [\"Primary\", \"Secondary\"]}, \"Purity\": {\"value\": \"\", \"type\": \"text\"}, \"Raised in\": {\"value\": \"\", \"type\": \"select\", \"options\": [\"Rabbit\", \"Mouse\"]}, \"Recognizes\": {\"value\": [\"\"], \"type\": \"select\", \"allow_multi_values\": true, \"options\": [\"Ape\", \"Chicken\", \"Dog\", \"Goat\", \"Guinea Pig\", \"Hamster\", \"Human\", \"Mink\", \"Monkey\", \"Mouse\", \"Rabbit\", \"Rat\", \"Sheep\", \"Zebrafish\"]}, \"Contact Person\": {\"value\": \"\", \"type\": \"text\"}, \"Contact Phone\": {\"value\": \"\", \"type\": \"text\"}, \"Date Installed\": {\"value\": \"\", \"type\": \"text\"}, \"Date Purchased\": {\"value\": \"\", \"type\": \"text\"}, \"Maintenance History\": {\"value\": \"\", \"type\": \"text\"}, \"Serial #\": {\"value\": \"\", \"type\": \"text\"}, \"University Tag #\": {\"value\": \"\", \"type\": \"text\"}, \"Molecular Weight *\": {\"value\": \"413.38\", \"type\": \"text\"}, \"User *\": {\"value\": \"general use\", \"type\": \"text\"}, \"User to ask\": {\"value\": \"\", \"type\": \"text\"}}}'}\n",
      "{'title': '(Created via API) Fluoresceinamine isomer I', 'body': '', 'custom_id': 'J00035', 'metadata': '{\"extra_fields\": {\"Type\": {\"value\": \"Fluorophores GBQ\", \"type\": \"text\"}, \"Delete? (Y/N)\": {\"value\": \"N\", \"type\": \"text\"}, \"Serial Number\": {\"value\": \"J00035\", \"type\": \"text\"}, \"Item Name *\": {\"value\": \"(Created via API) Fluoresceinamine isomer I\", \"type\": \"text\"}, \"Vendor\": {\"value\": \"Sigma Aldrich\", \"type\": \"text\"}, \"Catalog #\": {\"value\": \"201626-1G\", \"type\": \"text\"}, \"Owner\": {\"value\": \"Vanina Cosenza\", \"type\": \"text\"}, \"Location\": {\"value\": \"GBQ_freezer\", \"type\": \"text\"}, \"Sub-location\": {\"value\": \"Common drawer\", \"type\": \"text\"}, \"Location Details\": {\"value\": \"\", \"type\": \"text\"}, \"Price\": {\"value\": \"\", \"type\": \"number\"}, \"Amount in Stock\": {\"value\": \"\", \"type\": \"text\"}, \"Amount in Stock Units\": {\"value\": \"units\", \"type\": \"text\"}, \"Min to Stock\": {\"value\": \"\", \"type\": \"text\"}, \"Max to Stock\": {\"value\": \"\", \"type\": \"text\"}, \"Unit Size\": {\"value\": \"1g\", \"type\": \"text\"}, \"URL\": {\"value\": \"\", \"type\": \"url\"}, \"Technical Details\": {\"value\": \"\", \"type\": \"text\"}, \"Expiration Date\": {\"value\": \"\", \"type\": \"text\"}, \"Lot Number\": {\"value\": \"\", \"type\": \"text\"}, \"CAS Number\": {\"value\": \"\", \"type\": \"text\"}, \"Alternate Name\": {\"value\": \"\", \"type\": \"text\"}, \"Antigen\": {\"value\": \"\", \"type\": \"text\"}, \"Applications\": {\"value\": \"\", \"type\": \"text\"}, \"Bottle Reference\": {\"value\": \"\", \"type\": \"text\"}, \"Clonality\": {\"value\": \"\", \"type\": \"text\"}, \"Clone\": {\"value\": \"\", \"type\": \"text\"}, \"Concentration\": {\"value\": \"\", \"type\": \"text\"}, \"Conjugation\": {\"value\": \"\", \"type\": \"text\"}, \"Date Opened\": {\"value\": \"\", \"type\": \"text\"}, \"Epitope\": {\"value\": \"\", \"type\": \"text\"}, \"Formula\": {\"value\": \"\", \"type\": \"text\"}, \"Isotype\": {\"value\": \"\", \"type\": \"text\"}, \"Lifespan\": {\"value\": \"\", \"type\": \"text\"}, \"Molecular Weight\": {\"value\": \"\", \"type\": \"text\"}, \"Physical State\": {\"value\": \"\", \"type\": \"text\"}, \"Primary vs Secondary\": {\"value\": \"Primary\", \"type\": \"select\", \"options\": [\"Primary\", \"Secondary\"]}, \"Purity\": {\"value\": \"\", \"type\": \"text\"}, \"Raised in\": {\"value\": \"\", \"type\": \"select\", \"options\": [\"Rabbit\", \"Mouse\"]}, \"Recognizes\": {\"value\": [\"\"], \"type\": \"select\", \"allow_multi_values\": true, \"options\": [\"Ape\", \"Chicken\", \"Dog\", \"Goat\", \"Guinea Pig\", \"Hamster\", \"Human\", \"Mink\", \"Monkey\", \"Mouse\", \"Rabbit\", \"Rat\", \"Sheep\", \"Zebrafish\"]}, \"Contact Person\": {\"value\": \"\", \"type\": \"text\"}, \"Contact Phone\": {\"value\": \"\", \"type\": \"text\"}, \"Date Installed\": {\"value\": \"\", \"type\": \"text\"}, \"Date Purchased\": {\"value\": \"\", \"type\": \"text\"}, \"Maintenance History\": {\"value\": \"\", \"type\": \"text\"}, \"Serial #\": {\"value\": \"\", \"type\": \"text\"}, \"University Tag #\": {\"value\": \"\", \"type\": \"text\"}, \"Molecular Weight *\": {\"value\": \"0.0\", \"type\": \"text\"}, \"User *\": {\"value\": \"Vanina Cosenza\", \"type\": \"text\"}, \"User to ask\": {\"value\": \"\", \"type\": \"text\"}}}'}\n",
      "{'title': '(Created via API) Thermo Scientific; Matrix; Reagent Reservoirs; PS; 25mL; 50, Individuall', 'body': '', 'custom_id': 'E00025', 'metadata': '{\"extra_fields\": {\"Type\": {\"value\": \"General Supply\", \"type\": \"text\"}, \"Delete? (Y/N)\": {\"value\": \"N\", \"type\": \"text\"}, \"Serial Number\": {\"value\": \"E00025\", \"type\": \"text\"}, \"Item Name *\": {\"value\": \"(Created via API) Thermo Scientific; Matrix; Reagent Reservoirs; PS; 25mL; 50, Individuall\", \"type\": \"text\"}, \"Vendor\": {\"value\": \"Thermo Scientific\", \"type\": \"text\"}, \"Catalog #\": {\"value\": \"8094\", \"type\": \"text\"}, \"Owner\": {\"value\": \"Catia Lopes\", \"type\": \"text\"}, \"Location\": {\"value\": \"GBB_Cabinet 5\", \"type\": \"text\"}, \"Sub-location\": {\"value\": \"Second stock: Top Cabinet 5\", \"type\": \"text\"}, \"Location Details\": {\"value\": \"\", \"type\": \"text\"}, \"Price\": {\"value\": \"\", \"type\": \"number\"}, \"Amount in Stock\": {\"value\": \"4.0\", \"type\": \"text\"}, \"Amount in Stock Units\": {\"value\": \"packs\", \"type\": \"text\"}, \"Min to Stock\": {\"value\": \"2.0\", \"type\": \"text\"}, \"Max to Stock\": {\"value\": \"\", \"type\": \"text\"}, \"Unit Size\": {\"value\": \"50/PK\", \"type\": \"text\"}, \"URL\": {\"value\": \"https://www.thermofisher.com/order/catalog/product/8093EA\", \"type\": \"url\"}, \"Technical Details\": {\"value\": \"\", \"type\": \"text\"}, \"Expiration Date\": {\"value\": \"\", \"type\": \"text\"}, \"Lot Number\": {\"value\": \"\", \"type\": \"text\"}, \"CAS Number\": {\"value\": \"\", \"type\": \"text\"}, \"Alternate Name\": {\"value\": \"\", \"type\": \"text\"}, \"Antigen\": {\"value\": \"\", \"type\": \"text\"}, \"Applications\": {\"value\": \"\", \"type\": \"text\"}, \"Bottle Reference\": {\"value\": \"\", \"type\": \"text\"}, \"Clonality\": {\"value\": \"\", \"type\": \"text\"}, \"Clone\": {\"value\": \"\", \"type\": \"text\"}, \"Concentration\": {\"value\": \"\", \"type\": \"text\"}, \"Conjugation\": {\"value\": \"\", \"type\": \"text\"}, \"Date Opened\": {\"value\": \"\", \"type\": \"text\"}, \"Epitope\": {\"value\": \"\", \"type\": \"text\"}, \"Formula\": {\"value\": \"\", \"type\": \"text\"}, \"Isotype\": {\"value\": \"\", \"type\": \"text\"}, \"Lifespan\": {\"value\": \"\", \"type\": \"text\"}, \"Molecular Weight\": {\"value\": \"\", \"type\": \"text\"}, \"Physical State\": {\"value\": \"\", \"type\": \"text\"}, \"Primary vs Secondary\": {\"value\": \"Primary\", \"type\": \"select\", \"options\": [\"Primary\", \"Secondary\"]}, \"Purity\": {\"value\": \"\", \"type\": \"text\"}, \"Raised in\": {\"value\": \"\", \"type\": \"select\", \"options\": [\"Rabbit\", \"Mouse\"]}, \"Recognizes\": {\"value\": [\"\"], \"type\": \"select\", \"allow_multi_values\": true, \"options\": [\"Ape\", \"Chicken\", \"Dog\", \"Goat\", \"Guinea Pig\", \"Hamster\", \"Human\", \"Mink\", \"Monkey\", \"Mouse\", \"Rabbit\", \"Rat\", \"Sheep\", \"Zebrafish\"]}, \"Contact Person\": {\"value\": \"\", \"type\": \"text\"}, \"Contact Phone\": {\"value\": \"\", \"type\": \"text\"}, \"Date Installed\": {\"value\": \"\", \"type\": \"text\"}, \"Date Purchased\": {\"value\": \"\", \"type\": \"text\"}, \"Maintenance History\": {\"value\": \"\", \"type\": \"text\"}, \"Serial #\": {\"value\": \"\", \"type\": \"text\"}, \"University Tag #\": {\"value\": \"\", \"type\": \"text\"}, \"Molecular Weight *\": {\"value\": \"\", \"type\": \"text\"}, \"User *\": {\"value\": \"\", \"type\": \"text\"}, \"User to ask\": {\"value\": \"\", \"type\": \"text\"}}}'}\n",
      "{'title': '(Created via API) Nunc™ 6-Well Polystyrene Tissue Culture Treated Multiple Well Plates, Sterile, Individually Wrapped, With Lid', 'body': '', 'custom_id': 'E00032', 'metadata': '{\"extra_fields\": {\"Type\": {\"value\": \"General Supply\", \"type\": \"text\"}, \"Delete? (Y/N)\": {\"value\": \"N\", \"type\": \"text\"}, \"Serial Number\": {\"value\": \"E00032\", \"type\": \"text\"}, \"Item Name *\": {\"value\": \"(Created via API) Nunc\\\\u2122 6-Well Polystyrene Tissue Culture Treated Multiple Well Plates, Sterile, Individually Wrapped, With Lid\", \"type\": \"text\"}, \"Vendor\": {\"value\": \"Thermo Scientific\", \"type\": \"text\"}, \"Catalog #\": {\"value\": \"140675\", \"type\": \"text\"}, \"Owner\": {\"value\": \"Catia Lopes\", \"type\": \"text\"}, \"Location\": {\"value\": \"GBB_Cabinet 6\", \"type\": \"text\"}, \"Sub-location\": {\"value\": \"GBB_box 2\", \"type\": \"text\"}, \"Location Details\": {\"value\": \"\", \"type\": \"text\"}, \"Price\": {\"value\": \"\", \"type\": \"number\"}, \"Amount in Stock\": {\"value\": \"63.0\", \"type\": \"text\"}, \"Amount in Stock Units\": {\"value\": \"units\", \"type\": \"text\"}, \"Min to Stock\": {\"value\": \"20.0\", \"type\": \"text\"}, \"Max to Stock\": {\"value\": \"\", \"type\": \"text\"}, \"Unit Size\": {\"value\": \"\", \"type\": \"text\"}, \"URL\": {\"value\": \"https://www.midlandsci.com/default.aspx?itemcode=NUNC+140675&page=item+detail\", \"type\": \"url\"}, \"Technical Details\": {\"value\": \"\", \"type\": \"text\"}, \"Expiration Date\": {\"value\": \"\", \"type\": \"text\"}, \"Lot Number\": {\"value\": \"\", \"type\": \"text\"}, \"CAS Number\": {\"value\": \"\", \"type\": \"text\"}, \"Alternate Name\": {\"value\": \"\", \"type\": \"text\"}, \"Antigen\": {\"value\": \"\", \"type\": \"text\"}, \"Applications\": {\"value\": \"\", \"type\": \"text\"}, \"Bottle Reference\": {\"value\": \"\", \"type\": \"text\"}, \"Clonality\": {\"value\": \"\", \"type\": \"text\"}, \"Clone\": {\"value\": \"\", \"type\": \"text\"}, \"Concentration\": {\"value\": \"\", \"type\": \"text\"}, \"Conjugation\": {\"value\": \"\", \"type\": \"text\"}, \"Date Opened\": {\"value\": \"\", \"type\": \"text\"}, \"Epitope\": {\"value\": \"\", \"type\": \"text\"}, \"Formula\": {\"value\": \"\", \"type\": \"text\"}, \"Isotype\": {\"value\": \"\", \"type\": \"text\"}, \"Lifespan\": {\"value\": \"\", \"type\": \"text\"}, \"Molecular Weight\": {\"value\": \"\", \"type\": \"text\"}, \"Physical State\": {\"value\": \"\", \"type\": \"text\"}, \"Primary vs Secondary\": {\"value\": \"Primary\", \"type\": \"select\", \"options\": [\"Primary\", \"Secondary\"]}, \"Purity\": {\"value\": \"\", \"type\": \"text\"}, \"Raised in\": {\"value\": \"\", \"type\": \"select\", \"options\": [\"Rabbit\", \"Mouse\"]}, \"Recognizes\": {\"value\": [\"\"], \"type\": \"select\", \"allow_multi_values\": true, \"options\": [\"Ape\", \"Chicken\", \"Dog\", \"Goat\", \"Guinea Pig\", \"Hamster\", \"Human\", \"Mink\", \"Monkey\", \"Mouse\", \"Rabbit\", \"Rat\", \"Sheep\", \"Zebrafish\"]}, \"Contact Person\": {\"value\": \"\", \"type\": \"text\"}, \"Contact Phone\": {\"value\": \"\", \"type\": \"text\"}, \"Date Installed\": {\"value\": \"\", \"type\": \"text\"}, \"Date Purchased\": {\"value\": \"\", \"type\": \"text\"}, \"Maintenance History\": {\"value\": \"\", \"type\": \"text\"}, \"Serial #\": {\"value\": \"\", \"type\": \"text\"}, \"University Tag #\": {\"value\": \"\", \"type\": \"text\"}, \"Molecular Weight *\": {\"value\": \"\", \"type\": \"text\"}, \"User *\": {\"value\": \"\", \"type\": \"text\"}, \"User to ask\": {\"value\": \"\", \"type\": \"text\"}}}'}\n",
      "{'title': '(Created via API) SYBR™ Safe DNA Gel Stain', 'body': '', 'custom_id': 'E00049', 'metadata': '{\"extra_fields\": {\"Type\": {\"value\": \"Reagents\", \"type\": \"text\"}, \"Delete? (Y/N)\": {\"value\": \"N\", \"type\": \"text\"}, \"Serial Number\": {\"value\": \"E00049\", \"type\": \"text\"}, \"Item Name *\": {\"value\": \"(Created via API) SYBR\\\\u2122 Safe DNA Gel Stain\", \"type\": \"text\"}, \"Vendor\": {\"value\": \"Thermo Scientific\", \"type\": \"text\"}, \"Catalog #\": {\"value\": \"S33102\", \"type\": \"text\"}, \"Owner\": {\"value\": \"Catia Lopes\", \"type\": \"text\"}, \"Location\": {\"value\": \"GBB_Cabinet 21\", \"type\": \"text\"}, \"Sub-location\": {\"value\": \"\", \"type\": \"text\"}, \"Location Details\": {\"value\": \"\", \"type\": \"text\"}, \"Price\": {\"value\": \"\", \"type\": \"number\"}, \"Amount in Stock\": {\"value\": \"2.0\", \"type\": \"text\"}, \"Amount in Stock Units\": {\"value\": \"units\", \"type\": \"text\"}, \"Min to Stock\": {\"value\": \"1.0\", \"type\": \"text\"}, \"Max to Stock\": {\"value\": \"\", \"type\": \"text\"}, \"Unit Size\": {\"value\": \"Each\", \"type\": \"text\"}, \"URL\": {\"value\": \"https://www.thermofisher.com/order/catalog/product/S33102\", \"type\": \"url\"}, \"Technical Details\": {\"value\": \"\", \"type\": \"text\"}, \"Expiration Date\": {\"value\": \"\", \"type\": \"text\"}, \"Lot Number\": {\"value\": \"\", \"type\": \"text\"}, \"CAS Number\": {\"value\": \"\", \"type\": \"text\"}, \"Alternate Name\": {\"value\": \"\", \"type\": \"text\"}, \"Antigen\": {\"value\": \"\", \"type\": \"text\"}, \"Applications\": {\"value\": \"\", \"type\": \"text\"}, \"Bottle Reference\": {\"value\": \"\", \"type\": \"text\"}, \"Clonality\": {\"value\": \"\", \"type\": \"text\"}, \"Clone\": {\"value\": \"\", \"type\": \"text\"}, \"Concentration\": {\"value\": \"\", \"type\": \"text\"}, \"Conjugation\": {\"value\": \"\", \"type\": \"text\"}, \"Date Opened\": {\"value\": \"\", \"type\": \"text\"}, \"Epitope\": {\"value\": \"\", \"type\": \"text\"}, \"Formula\": {\"value\": \"\", \"type\": \"text\"}, \"Isotype\": {\"value\": \"\", \"type\": \"text\"}, \"Lifespan\": {\"value\": \"\", \"type\": \"text\"}, \"Molecular Weight\": {\"value\": \"\", \"type\": \"text\"}, \"Physical State\": {\"value\": \"\", \"type\": \"text\"}, \"Primary vs Secondary\": {\"value\": \"Primary\", \"type\": \"select\", \"options\": [\"Primary\", \"Secondary\"]}, \"Purity\": {\"value\": \"\", \"type\": \"text\"}, \"Raised in\": {\"value\": \"\", \"type\": \"select\", \"options\": [\"Rabbit\", \"Mouse\"]}, \"Recognizes\": {\"value\": [\"\"], \"type\": \"select\", \"allow_multi_values\": true, \"options\": [\"Ape\", \"Chicken\", \"Dog\", \"Goat\", \"Guinea Pig\", \"Hamster\", \"Human\", \"Mink\", \"Monkey\", \"Mouse\", \"Rabbit\", \"Rat\", \"Sheep\", \"Zebrafish\"]}, \"Contact Person\": {\"value\": \"\", \"type\": \"text\"}, \"Contact Phone\": {\"value\": \"\", \"type\": \"text\"}, \"Date Installed\": {\"value\": \"\", \"type\": \"text\"}, \"Date Purchased\": {\"value\": \"\", \"type\": \"text\"}, \"Maintenance History\": {\"value\": \"\", \"type\": \"text\"}, \"Serial #\": {\"value\": \"\", \"type\": \"text\"}, \"University Tag #\": {\"value\": \"\", \"type\": \"text\"}, \"Molecular Weight *\": {\"value\": \"\", \"type\": \"text\"}, \"User *\": {\"value\": \"\", \"type\": \"text\"}, \"User to ask\": {\"value\": \"\", \"type\": \"text\"}}}'}\n",
      "{'title': '(Created via API) Total Exosome RNA & Protein Isolation Kit', 'body': '', 'custom_id': 'E00069', 'metadata': '{\"extra_fields\": {\"Type\": {\"value\": \"Reagents\", \"type\": \"text\"}, \"Delete? (Y/N)\": {\"value\": \"N\", \"type\": \"text\"}, \"Serial Number\": {\"value\": \"E00069\", \"type\": \"text\"}, \"Item Name *\": {\"value\": \"(Created via API) Total Exosome RNA & Protein Isolation Kit\", \"type\": \"text\"}, \"Vendor\": {\"value\": \"Thermo Scientific\", \"type\": \"text\"}, \"Catalog #\": {\"value\": \"4478545\", \"type\": \"text\"}, \"Owner\": {\"value\": \"Matilde Ghibaudi\", \"type\": \"text\"}, \"Location\": {\"value\": \"GBB_cabinet 16\", \"type\": \"text\"}, \"Sub-location\": {\"value\": \"\", \"type\": \"text\"}, \"Location Details\": {\"value\": \"\", \"type\": \"text\"}, \"Price\": {\"value\": \"\", \"type\": \"number\"}, \"Amount in Stock\": {\"value\": \"1.0\", \"type\": \"text\"}, \"Amount in Stock Units\": {\"value\": \"units\", \"type\": \"text\"}, \"Min to Stock\": {\"value\": \"\", \"type\": \"text\"}, \"Max to Stock\": {\"value\": \"\", \"type\": \"text\"}, \"Unit Size\": {\"value\": \"40 rxns\", \"type\": \"text\"}, \"URL\": {\"value\": \"https://www.thermofisher.com/order/catalog/product/4478545\", \"type\": \"url\"}, \"Technical Details\": {\"value\": \"\", \"type\": \"text\"}, \"Expiration Date\": {\"value\": \"\", \"type\": \"text\"}, \"Lot Number\": {\"value\": \"\", \"type\": \"text\"}, \"CAS Number\": {\"value\": \"\", \"type\": \"text\"}, \"Alternate Name\": {\"value\": \"\", \"type\": \"text\"}, \"Antigen\": {\"value\": \"\", \"type\": \"text\"}, \"Applications\": {\"value\": \"\", \"type\": \"text\"}, \"Bottle Reference\": {\"value\": \"\", \"type\": \"text\"}, \"Clonality\": {\"value\": \"\", \"type\": \"text\"}, \"Clone\": {\"value\": \"\", \"type\": \"text\"}, \"Concentration\": {\"value\": \"\", \"type\": \"text\"}, \"Conjugation\": {\"value\": \"\", \"type\": \"text\"}, \"Date Opened\": {\"value\": \"\", \"type\": \"text\"}, \"Epitope\": {\"value\": \"\", \"type\": \"text\"}, \"Formula\": {\"value\": \"\", \"type\": \"text\"}, \"Isotype\": {\"value\": \"\", \"type\": \"text\"}, \"Lifespan\": {\"value\": \"\", \"type\": \"text\"}, \"Molecular Weight\": {\"value\": \"\", \"type\": \"text\"}, \"Physical State\": {\"value\": \"\", \"type\": \"text\"}, \"Primary vs Secondary\": {\"value\": \"Primary\", \"type\": \"select\", \"options\": [\"Primary\", \"Secondary\"]}, \"Purity\": {\"value\": \"\", \"type\": \"text\"}, \"Raised in\": {\"value\": \"\", \"type\": \"select\", \"options\": [\"Rabbit\", \"Mouse\"]}, \"Recognizes\": {\"value\": [\"\"], \"type\": \"select\", \"allow_multi_values\": true, \"options\": [\"Ape\", \"Chicken\", \"Dog\", \"Goat\", \"Guinea Pig\", \"Hamster\", \"Human\", \"Mink\", \"Monkey\", \"Mouse\", \"Rabbit\", \"Rat\", \"Sheep\", \"Zebrafish\"]}, \"Contact Person\": {\"value\": \"\", \"type\": \"text\"}, \"Contact Phone\": {\"value\": \"\", \"type\": \"text\"}, \"Date Installed\": {\"value\": \"\", \"type\": \"text\"}, \"Date Purchased\": {\"value\": \"\", \"type\": \"text\"}, \"Maintenance History\": {\"value\": \"\", \"type\": \"text\"}, \"Serial #\": {\"value\": \"\", \"type\": \"text\"}, \"University Tag #\": {\"value\": \"\", \"type\": \"text\"}, \"Molecular Weight *\": {\"value\": \"\", \"type\": \"text\"}, \"User *\": {\"value\": \"\", \"type\": \"text\"}, \"User to ask\": {\"value\": \"\", \"type\": \"text\"}}}'}\n",
      "{'title': \"(Created via API) Hanks' Balanced Salt solution,Modified, with sodium bicarbonate, without phenol red, liquid, sterile-filtered, suitable for cell culture\", 'body': '', 'custom_id': 'E00122', 'metadata': '{\"extra_fields\": {\"Type\": {\"value\": \"Reagents\", \"type\": \"text\"}, \"Delete? (Y/N)\": {\"value\": \"N\", \"type\": \"text\"}, \"Serial Number\": {\"value\": \"E00122\", \"type\": \"text\"}, \"Item Name *\": {\"value\": \"(Created via API) Hanks\\' Balanced Salt solution,Modified, with sodium bicarbonate, without phenol red, liquid, sterile-filtered, suitable for cell culture\", \"type\": \"text\"}, \"Vendor\": {\"value\": \"Sigma-Aldrich\", \"type\": \"text\"}, \"Catalog #\": {\"value\": \"H8264-500ML\", \"type\": \"text\"}, \"Owner\": {\"value\": \"Matilde Ghibaudi\", \"type\": \"text\"}, \"Location\": {\"value\": \"GBB_wall-shelf1\", \"type\": \"text\"}, \"Sub-location\": {\"value\": \"\", \"type\": \"text\"}, \"Location Details\": {\"value\": \"\", \"type\": \"text\"}, \"Price\": {\"value\": \"\", \"type\": \"number\"}, \"Amount in Stock\": {\"value\": \"13.0\", \"type\": \"text\"}, \"Amount in Stock Units\": {\"value\": \"units\", \"type\": \"text\"}, \"Min to Stock\": {\"value\": \"\", \"type\": \"text\"}, \"Max to Stock\": {\"value\": \"\", \"type\": \"text\"}, \"Unit Size\": {\"value\": \"500 mL\", \"type\": \"text\"}, \"URL\": {\"value\": \"https://www.sigmaaldrich.com/catalog/product/sigma/h8264?lang=en&region=US\", \"type\": \"url\"}, \"Technical Details\": {\"value\": \"\", \"type\": \"text\"}, \"Expiration Date\": {\"value\": \"\", \"type\": \"text\"}, \"Lot Number\": {\"value\": \"\", \"type\": \"text\"}, \"CAS Number\": {\"value\": \"\", \"type\": \"text\"}, \"Alternate Name\": {\"value\": \"\", \"type\": \"text\"}, \"Antigen\": {\"value\": \"\", \"type\": \"text\"}, \"Applications\": {\"value\": \"\", \"type\": \"text\"}, \"Bottle Reference\": {\"value\": \"\", \"type\": \"text\"}, \"Clonality\": {\"value\": \"\", \"type\": \"text\"}, \"Clone\": {\"value\": \"\", \"type\": \"text\"}, \"Concentration\": {\"value\": \"\", \"type\": \"text\"}, \"Conjugation\": {\"value\": \"\", \"type\": \"text\"}, \"Date Opened\": {\"value\": \"\", \"type\": \"text\"}, \"Epitope\": {\"value\": \"\", \"type\": \"text\"}, \"Formula\": {\"value\": \"\", \"type\": \"text\"}, \"Isotype\": {\"value\": \"\", \"type\": \"text\"}, \"Lifespan\": {\"value\": \"\", \"type\": \"text\"}, \"Molecular Weight\": {\"value\": \"\", \"type\": \"text\"}, \"Physical State\": {\"value\": \"\", \"type\": \"text\"}, \"Primary vs Secondary\": {\"value\": \"Primary\", \"type\": \"select\", \"options\": [\"Primary\", \"Secondary\"]}, \"Purity\": {\"value\": \"\", \"type\": \"text\"}, \"Raised in\": {\"value\": \"\", \"type\": \"select\", \"options\": [\"Rabbit\", \"Mouse\"]}, \"Recognizes\": {\"value\": [\"\"], \"type\": \"select\", \"allow_multi_values\": true, \"options\": [\"Ape\", \"Chicken\", \"Dog\", \"Goat\", \"Guinea Pig\", \"Hamster\", \"Human\", \"Mink\", \"Monkey\", \"Mouse\", \"Rabbit\", \"Rat\", \"Sheep\", \"Zebrafish\"]}, \"Contact Person\": {\"value\": \"\", \"type\": \"text\"}, \"Contact Phone\": {\"value\": \"\", \"type\": \"text\"}, \"Date Installed\": {\"value\": \"\", \"type\": \"text\"}, \"Date Purchased\": {\"value\": \"\", \"type\": \"text\"}, \"Maintenance History\": {\"value\": \"\", \"type\": \"text\"}, \"Serial #\": {\"value\": \"\", \"type\": \"text\"}, \"University Tag #\": {\"value\": \"\", \"type\": \"text\"}, \"Molecular Weight *\": {\"value\": \"\", \"type\": \"text\"}, \"User *\": {\"value\": \"\", \"type\": \"text\"}, \"User to ask\": {\"value\": \"\", \"type\": \"text\"}}}'}\n",
      "{'title': '(Created via API) Pbs, pH 7.4 for POs preparation', 'body': '', 'custom_id': 'E00127', 'metadata': '{\"extra_fields\": {\"Type\": {\"value\": \"Reagents\", \"type\": \"text\"}, \"Delete? (Y/N)\": {\"value\": \"N\", \"type\": \"text\"}, \"Serial Number\": {\"value\": \"E00127\", \"type\": \"text\"}, \"Item Name *\": {\"value\": \"(Created via API) Pbs, pH 7.4 for POs preparation\", \"type\": \"text\"}, \"Vendor\": {\"value\": \"Thermo Scientific\", \"type\": \"text\"}, \"Catalog #\": {\"value\": \"10010002\", \"type\": \"text\"}, \"Owner\": {\"value\": \"Matilde Ghibaudi\", \"type\": \"text\"}, \"Location\": {\"value\": \"GBB_wall-shelf1\", \"type\": \"text\"}, \"Sub-location\": {\"value\": \"\", \"type\": \"text\"}, \"Location Details\": {\"value\": \"\", \"type\": \"text\"}, \"Price\": {\"value\": \"\", \"type\": \"number\"}, \"Amount in Stock\": {\"value\": \"6.0\", \"type\": \"text\"}, \"Amount in Stock Units\": {\"value\": \"units\", \"type\": \"text\"}, \"Min to Stock\": {\"value\": \"\", \"type\": \"text\"}, \"Max to Stock\": {\"value\": \"\", \"type\": \"text\"}, \"Unit Size\": {\"value\": \"5 L\", \"type\": \"text\"}, \"URL\": {\"value\": \"https://www.thermofisher.com/order/catalog/product/10010031\", \"type\": \"url\"}, \"Technical Details\": {\"value\": \"\", \"type\": \"text\"}, \"Expiration Date\": {\"value\": \"\", \"type\": \"text\"}, \"Lot Number\": {\"value\": \"\", \"type\": \"text\"}, \"CAS Number\": {\"value\": \"\", \"type\": \"text\"}, \"Alternate Name\": {\"value\": \"\", \"type\": \"text\"}, \"Antigen\": {\"value\": \"\", \"type\": \"text\"}, \"Applications\": {\"value\": \"\", \"type\": \"text\"}, \"Bottle Reference\": {\"value\": \"\", \"type\": \"text\"}, \"Clonality\": {\"value\": \"\", \"type\": \"text\"}, \"Clone\": {\"value\": \"\", \"type\": \"text\"}, \"Concentration\": {\"value\": \"\", \"type\": \"text\"}, \"Conjugation\": {\"value\": \"\", \"type\": \"text\"}, \"Date Opened\": {\"value\": \"\", \"type\": \"text\"}, \"Epitope\": {\"value\": \"\", \"type\": \"text\"}, \"Formula\": {\"value\": \"\", \"type\": \"text\"}, \"Isotype\": {\"value\": \"\", \"type\": \"text\"}, \"Lifespan\": {\"value\": \"\", \"type\": \"text\"}, \"Molecular Weight\": {\"value\": \"\", \"type\": \"text\"}, \"Physical State\": {\"value\": \"\", \"type\": \"text\"}, \"Primary vs Secondary\": {\"value\": \"Primary\", \"type\": \"select\", \"options\": [\"Primary\", \"Secondary\"]}, \"Purity\": {\"value\": \"\", \"type\": \"text\"}, \"Raised in\": {\"value\": \"\", \"type\": \"select\", \"options\": [\"Rabbit\", \"Mouse\"]}, \"Recognizes\": {\"value\": [\"\"], \"type\": \"select\", \"allow_multi_values\": true, \"options\": [\"Ape\", \"Chicken\", \"Dog\", \"Goat\", \"Guinea Pig\", \"Hamster\", \"Human\", \"Mink\", \"Monkey\", \"Mouse\", \"Rabbit\", \"Rat\", \"Sheep\", \"Zebrafish\"]}, \"Contact Person\": {\"value\": \"\", \"type\": \"text\"}, \"Contact Phone\": {\"value\": \"\", \"type\": \"text\"}, \"Date Installed\": {\"value\": \"\", \"type\": \"text\"}, \"Date Purchased\": {\"value\": \"\", \"type\": \"text\"}, \"Maintenance History\": {\"value\": \"\", \"type\": \"text\"}, \"Serial #\": {\"value\": \"\", \"type\": \"text\"}, \"University Tag #\": {\"value\": \"\", \"type\": \"text\"}, \"Molecular Weight *\": {\"value\": \"\", \"type\": \"text\"}, \"User *\": {\"value\": \"\", \"type\": \"text\"}, \"User to ask\": {\"value\": \"\", \"type\": \"text\"}}}'}\n"
     ]
    }
   ],
   "source": [
    "for row in test_file:\n",
    "    test = body={'title': row['Item Name *'], 'body': getBodyFromRow(row), 'custom_id': row['Serial Number'], 'metadata': getMetadataFromRow(row)}\n",
    "    print(test)"
   ]
  },
  {
   "cell_type": "markdown",
   "metadata": {},
   "source": [
    "Import is done here: create items and modify them by filling in the fields"
   ]
  },
  {
   "cell_type": "code",
   "execution_count": null,
   "metadata": {},
   "outputs": [],
   "source": [
    "# Note: use encoding='utf-8-sig' in the open() call if your file has BOM (Byte Order Mark)\n",
    "# Also make sure that the CSV file was saved as UTF-8 to avoid issues with special characters\n",
    "\n",
    "with open(CSV_PATH, newline='') as csvfile: \n",
    "    \n",
    "    # let's read the CSV using the standard \"csv\" library from python. No need for anything fancier.\n",
    "    csvreader = csv.DictReader(csvfile, delimiter=',', quotechar='\"')\n",
    "    \n",
    "    # now we loop over each row in our CSV\n",
    "    for row in csvreader:\n",
    "\n",
    "        # here we add the tag \"-20°C freezer\" to every row\n",
    "        # the API allows setting tags during creation (POST) of a resource or experiment, so we use it here\n",
    "        response = itemsApi.post_item_with_http_info(body={'category_id': RESOURCE_CATEGORY_ID, 'tags': ['-20°C freezer']})\n",
    "        locationHeaderInResponse = response[2].get('Location')\n",
    "        print(f'The newly created item is here: {locationHeaderInResponse}')\n",
    "\n",
    "        # that's our ID of the newly created resource\n",
    "        itemId = int(locationHeaderInResponse.split('/').pop())\n",
    "        print('The Item Id is: ' + str(itemId))\n",
    "\n",
    "        # Patch the item to change its content:\n",
    "        # the \"Name\" column becomes our title\n",
    "        # the \"Body\" is generated from the \"Comment\" column content with the \"getBodyFromRow()\" function\n",
    "        # for the \"ID\" column we match it to the \"custom_id\" property in elab\n",
    "        # and the extra fields (metadata) is built with a function\n",
    "        # the single line below will make all those changes at once\n",
    "        itemsApi.patch_item(itemId, body={'title': row['Name'], 'body': getBodyFromRow(row), 'custom_id': row['ID'], 'metadata': getMetadataFromRow(row)})"
   ]
  },
  {
   "cell_type": "markdown",
   "metadata": {},
   "source": [
    "### Modifying resources"
   ]
  },
  {
   "cell_type": "markdown",
   "metadata": {},
   "source": [
    "What item you want to modify"
   ]
  },
  {
   "cell_type": "code",
   "execution_count": 41,
   "metadata": {},
   "outputs": [
    {
     "name": "stdout",
     "output_type": "stream",
     "text": [
      "Item to modify: 48\n"
     ]
    }
   ],
   "source": [
    "itemId_to_modify = itemId\n",
    "print(f'Item to modify: {itemId_to_modify}')"
   ]
  },
  {
   "cell_type": "markdown",
   "metadata": {},
   "source": [
    "Modify whatever needed"
   ]
  },
  {
   "cell_type": "code",
   "execution_count": null,
   "metadata": {},
   "outputs": [],
   "source": [
    "itemsApi.patch_item(itemId, body={'title': 'Another title', \n",
    "                                  #'body': 'Main content text', \n",
    "                                  #'rating': 5\n",
    "                                  })"
   ]
  },
  {
   "cell_type": "markdown",
   "metadata": {},
   "source": [
    "## Importing experiments"
   ]
  },
  {
   "cell_type": "code",
   "execution_count": null,
   "metadata": {},
   "outputs": [],
   "source": [
    "# Load the experiments api\n",
    "experimentsApi = elabapi_python.ExperimentsApi(api_client)\n",
    "\n",
    "# all experiments belonging to that user will get modified\n",
    "target_userid = 2\n",
    "# make sure this team group exists!\n",
    "# to get its id go to /api/v2/teams/current/teamgroups\n",
    "target_teamgroup = 2\n",
    "\n",
    "# This is the permission setting we will assign to the experiments\n",
    "# base:20 means \"User + Admin\" (see https://github.com/elabftw/elabftw/blob/b193d9fc738ab2635e07317ad83f8c5c1c50413a/src/enums/BasePermissions.php#L17)\n",
    "canwrite = canread = { 'base': 20, 'teams': [], 'teamgroups': [target_teamgroup], 'users': [] }\n",
    "\n",
    "# get a list of experiments for a given user\n",
    "experiments = experimentsApi.read_experiments(owner=target_userid,limit=9999)\n",
    "for exp in experiments:\n",
    "    experimentsApi.patch_experiment(exp.id, body={'canread': json.dumps(canread), 'canwrite': json.dumps(canwrite)})"
   ]
  }
 ],
 "metadata": {
  "kernelspec": {
   "display_name": "data-analysis",
   "language": "python",
   "name": "python3"
  },
  "language_info": {
   "codemirror_mode": {
    "name": "ipython",
    "version": 3
   },
   "file_extension": ".py",
   "mimetype": "text/x-python",
   "name": "python",
   "nbconvert_exporter": "python",
   "pygments_lexer": "ipython3",
   "version": "3.11.0"
  }
 },
 "nbformat": 4,
 "nbformat_minor": 2
}
