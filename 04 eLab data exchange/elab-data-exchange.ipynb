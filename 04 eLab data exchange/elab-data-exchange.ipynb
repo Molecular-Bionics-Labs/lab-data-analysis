{
 "cells": [
  {
   "cell_type": "markdown",
   "metadata": {},
   "source": [
    "# Import resources into eLab database\n",
    "\n",
    "\n",
    "This script will read a csv file that contains a list of antibodies, and add them to the resources database with a fine control on which columns are processed and how."
   ]
  },
  {
   "cell_type": "markdown",
   "metadata": {},
   "source": [
    "## Tech detail"
   ]
  },
  {
   "cell_type": "code",
   "execution_count": 1,
   "metadata": {},
   "outputs": [],
   "source": [
    "# the python lib for elab\n",
    "import elabapi_python\n",
    "# we will use the generic csv module\n",
    "import csv\n",
    "# we also need the json module for the metadata (extra fields) part\n",
    "import json\n",
    "\n",
    "from pathlib import Path"
   ]
  },
  {
   "cell_type": "code",
   "execution_count": 31,
   "metadata": {},
   "outputs": [],
   "source": [
    "#########################\n",
    "#         CONFIG        #\n",
    "#########################\n",
    "# replace with your instance address\n",
    "\n",
    "API_HOST_URL = 'https://demo.elabftw.net/api/v2' #DEMO\n",
    "\n",
    "#Available endpoints (not empty) are: \n",
    "#     apikeys, \n",
    "#     config, \n",
    "#     experiments, \n",
    "#     info, \n",
    "#     items, #this is resources database\n",
    "#     experiments_templates, \n",
    "#     items_types, \n",
    "#     event, \n",
    "#     events, \n",
    "#     extra_fields_keys,\n",
    "#     team_tags, \n",
    "#     teams, \n",
    "#     todolist, \n",
    "#     unfinished_steps, \n",
    "#     users\n",
    "\n",
    "# replace with your api key\n",
    "API_KEY = 'your key goes here' #DEMO\n",
    "\n",
    "# this is the resource category where the entries will be created. Visit https://eln.ibecbarcelona.eu/api/v2/items_types to GET a list.\n",
    "\n",
    "# in this example, category with id 3 corresponds to \"Project CRYPTO-COOL\" at IBEC\n",
    "# in this example, category with id 6 corresponds to \"Antibodies\" at DEMO\n",
    "RESOURCE_CATEGORY_ID = 45 #IBEC\n",
    "#RESOURCE_CATEGORY_ID = 6 #DEMO\n",
    "\n",
    "# parent_dir is a parent directory to our current directory `cwd`\n",
    "parent_dir = Path.cwd().parent\n",
    "\n",
    "# relative_path is a relative path to the directory where our data is stored\n",
    "relative_path = 'Data/'\n",
    "\n",
    "# filename_example is the name of the file we want to read\n",
    "filename_example = 'elab_resources_import_test_antibodies_2.csv'\n",
    "\n",
    "CSV_PATH = (parent_dir / relative_path / filename_example).resolve()\n",
    "\n",
    "#########################\n",
    "#      END CONFIG       #\n",
    "#########################"
   ]
  },
  {
   "cell_type": "code",
   "execution_count": 32,
   "metadata": {},
   "outputs": [],
   "source": [
    "# Configure the api client\n",
    "configuration = elabapi_python.Configuration()\n",
    "configuration.api_key['api_key'] = API_KEY\n",
    "configuration.api_key_prefix['api_key'] = 'Authorization'\n",
    "configuration.host = API_HOST_URL\n",
    "configuration.debug = False\n",
    "# set to True if you have a proper certificate, here it is set to False to ease the test in dev\n",
    "configuration.verify_ssl = False\n",
    "\n",
    "# create an instance of the API class\n",
    "api_client = elabapi_python.ApiClient(configuration)\n",
    "# fix issue with Authorization header not being properly set by the generated lib\n",
    "api_client.set_default_header(header_name='Authorization', header_value=API_KEY)\n",
    "    \n",
    "# Load items api\n",
    "itemsApi = elabapi_python.ItemsApi(api_client)\n",
    "\n",
    "# Load the experiments api\n",
    "experimentsApi = elabapi_python.ExperimentsApi(api_client)\n"
   ]
  },
  {
   "cell_type": "markdown",
   "metadata": {},
   "source": [
    "## Helper functions to import resources from an csv file"
   ]
  },
  {
   "cell_type": "code",
   "execution_count": 33,
   "metadata": {},
   "outputs": [],
   "source": [
    "# function to build the metadata json for a row\n",
    "def getMetadataFromRow(row):\n",
    "    # our metadata object for one row, currently a dictionary with a key \"extra_fields\" holding an empty dictionary\n",
    "    metadata = { 'extra_fields': {} }\n",
    "\n",
    "    # now go over the columns (except the title/Name) and add it to our extra_fields object\n",
    "    for keyval in row.items():\n",
    "        field_type = 'text'\n",
    "\n",
    "        # we don't import these columns as metadata\n",
    "        # Name is the tile, Comment is in the body, and ID is the custom_id.\n",
    "        if keyval[0] == 'Name' or keyval[0] == 'Comment' or keyval[0] == 'ID':\n",
    "            continue\n",
    "        \n",
    "        # special case for url/URL column, we make it a type: url\n",
    "        if keyval[0].lower() == 'url':\n",
    "            field_type = 'url'\n",
    "        \n",
    "        if keyval[0].lower() == 'price':\n",
    "            field_type = 'number'\n",
    "        \n",
    "        # special case for Concentration column, we use the units\n",
    "        if keyval[0].lower() == 'concentration' and keyval[1]:\n",
    "            split_conc = keyval[1].split()\n",
    "            metadata['extra_fields'].update({keyval[0]: {'value': split_conc[0], 'type': 'number', 'unit': split_conc[1], 'units':['mg/mL', 'μg/mL']}})\n",
    "        elif keyval[0].lower() == 'primary vs secondary':\n",
    "            metadata['extra_fields'].update({keyval[0]: {'value': 'Primary', 'type': 'select', 'options': ['Primary', 'Secondary']}})\n",
    "\n",
    "        elif keyval[0].lower() == 'raised in':\n",
    "            metadata['extra_fields'].update({keyval[0]: {'value': keyval[1], 'type': 'select', 'options': ['Rabbit', 'Mouse']}})\n",
    "        elif keyval[0].lower() == 'recognizes':\n",
    "            metadata['extra_fields'].update({keyval[0]: {\n",
    "                'value': keyval[1].split(', '), 'type': 'select', 'allow_multi_values': True, 'options': ['Ape', 'Chicken', 'Dog', 'Goat', 'Guinea Pig', 'Hamster', 'Human', 'Mink', 'Monkey', 'Mouse', 'Rabbit', 'Rat', 'Sheep', 'Zebrafish']}})\n",
    "        else:\n",
    "            metadata['extra_fields'].update({keyval[0]: {'value': keyval[1], 'type': field_type}})\n",
    "    \n",
    "    return json.dumps(metadata)"
   ]
  },
  {
   "cell_type": "code",
   "execution_count": 34,
   "metadata": {},
   "outputs": [],
   "source": [
    "# The column \"Comment\" will get added to the body of the resource\n",
    "def getBodyFromRow(row) -> str:\n",
    "    for keyval in row.items():\n",
    "        if keyval[0] == 'Comment':\n",
    "            return f'<p>{keyval[1]}</p>'\n",
    "    return ''\n"
   ]
  },
  {
   "cell_type": "markdown",
   "metadata": {},
   "source": [
    "## Real stuff starts here"
   ]
  },
  {
   "cell_type": "markdown",
   "metadata": {},
   "source": [
    "### Importing resources"
   ]
  },
  {
   "cell_type": "markdown",
   "metadata": {},
   "source": [
    "Quick check of a file"
   ]
  },
  {
   "cell_type": "code",
   "execution_count": 35,
   "metadata": {},
   "outputs": [
    {
     "name": "stdout",
     "output_type": "stream",
     "text": [
      "['Name', 'ID', 'Vendor', 'Vendor Reference', 'URL', 'Concentration', 'Price', 'Raised in', 'Recognizes', 'Comment']\n",
      "1\n"
     ]
    }
   ],
   "source": [
    "test_file = csv.DictReader(open(CSV_PATH, newline=''), delimiter=',', quotechar='\"')\n",
    "print(test_file.fieldnames)\n",
    "print(test_file.line_num)"
   ]
  },
  {
   "cell_type": "code",
   "execution_count": 36,
   "metadata": {},
   "outputs": [
    {
     "name": "stdout",
     "output_type": "stream",
     "text": [
      "{'title': '(Created via API) DDX3 (D19B4) Rabbit mAb', 'body': '<p>Use at 1:000 for WB</p>', 'custom_id': '3', 'metadata': '{\"extra_fields\": {\"Vendor\": {\"value\": \"Cell Signaling\", \"type\": \"text\"}, \"Vendor Reference\": {\"value\": \"8192\", \"type\": \"text\"}, \"URL\": {\"value\": \"https://www.cellsignal.com/products/primary-antibodies/ddx3-d19b4-rabbit-mab/8192\", \"type\": \"url\"}, \"Concentration\": {\"value\": \"100\", \"type\": \"number\", \"unit\": \"\\\\u03bcg/mL\", \"units\": [\"mg/mL\", \"\\\\u03bcg/mL\"]}, \"Price\": {\"value\": \"110\", \"type\": \"number\"}, \"Raised in\": {\"value\": \"Rabbit\", \"type\": \"select\", \"options\": [\"Rabbit\", \"Mouse\"]}, \"Recognizes\": {\"value\": [\"Human\", \"Mouse\", \"Rat\", \"Monkey\"], \"type\": \"select\", \"allow_multi_values\": true, \"options\": [\"Ape\", \"Chicken\", \"Dog\", \"Goat\", \"Guinea Pig\", \"Hamster\", \"Human\", \"Mink\", \"Monkey\", \"Mouse\", \"Rabbit\", \"Rat\", \"Sheep\", \"Zebrafish\"]}}}'}\n",
      "{'title': '(Created via API) Recombinant Anti-Calcineurin A antibody', 'body': '<p>This antibody, a unique guardian in the arsenal of immunity, stands alone in its precision, tailored to target and defend against threats with unparalleled specificity.</p>', 'custom_id': '14', 'metadata': '{\"extra_fields\": {\"Vendor\": {\"value\": \"Abcam\", \"type\": \"text\"}, \"Vendor Reference\": {\"value\": \"ab282104\", \"type\": \"text\"}, \"URL\": {\"value\": \"https://www.abcam.com/products/primary-antibodies/calcineurin-a-antibody-epr24997-22-ab282104.html\", \"type\": \"url\"}, \"Concentration\": {\"value\": \"30\", \"type\": \"number\", \"unit\": \"mg/mL\", \"units\": [\"mg/mL\", \"\\\\u03bcg/mL\"]}, \"Price\": {\"value\": \"132\", \"type\": \"number\"}, \"Raised in\": {\"value\": \"Rabbit\", \"type\": \"select\", \"options\": [\"Rabbit\", \"Mouse\"]}, \"Recognizes\": {\"value\": [\"Human\", \"Mouse\", \"Rat\"], \"type\": \"select\", \"allow_multi_values\": true, \"options\": [\"Ape\", \"Chicken\", \"Dog\", \"Goat\", \"Guinea Pig\", \"Hamster\", \"Human\", \"Mink\", \"Monkey\", \"Mouse\", \"Rabbit\", \"Rat\", \"Sheep\", \"Zebrafish\"]}}}'}\n"
     ]
    }
   ],
   "source": [
    "for row in test_file:\n",
    "    test = body={'title': row['Name'], 'body': getBodyFromRow(row), 'custom_id': row['ID'], 'metadata': getMetadataFromRow(row)}\n",
    "    print(test)"
   ]
  },
  {
   "cell_type": "markdown",
   "metadata": {},
   "source": [
    "Import is done here: create items and modify them by filling in the fields"
   ]
  },
  {
   "cell_type": "code",
   "execution_count": 39,
   "metadata": {},
   "outputs": [
    {
     "name": "stderr",
     "output_type": "stream",
     "text": [
      "/Users/vschastlivaia/miniforge3/envs/data-analysis/lib/python3.11/site-packages/urllib3/connectionpool.py:1103: InsecureRequestWarning: Unverified HTTPS request is being made to host 'eln.ibecbarcelona.eu'. Adding certificate verification is strongly advised. See: https://urllib3.readthedocs.io/en/latest/advanced-usage.html#tls-warnings\n",
      "  warnings.warn(\n",
      "/Users/vschastlivaia/miniforge3/envs/data-analysis/lib/python3.11/site-packages/urllib3/connectionpool.py:1103: InsecureRequestWarning: Unverified HTTPS request is being made to host 'eln.ibecbarcelona.eu'. Adding certificate verification is strongly advised. See: https://urllib3.readthedocs.io/en/latest/advanced-usage.html#tls-warnings\n",
      "  warnings.warn(\n",
      "/Users/vschastlivaia/miniforge3/envs/data-analysis/lib/python3.11/site-packages/urllib3/connectionpool.py:1103: InsecureRequestWarning: Unverified HTTPS request is being made to host 'eln.ibecbarcelona.eu'. Adding certificate verification is strongly advised. See: https://urllib3.readthedocs.io/en/latest/advanced-usage.html#tls-warnings\n",
      "  warnings.warn(\n",
      "/Users/vschastlivaia/miniforge3/envs/data-analysis/lib/python3.11/site-packages/urllib3/connectionpool.py:1103: InsecureRequestWarning: Unverified HTTPS request is being made to host 'eln.ibecbarcelona.eu'. Adding certificate verification is strongly advised. See: https://urllib3.readthedocs.io/en/latest/advanced-usage.html#tls-warnings\n",
      "  warnings.warn(\n"
     ]
    }
   ],
   "source": [
    "# Note: use encoding='utf-8-sig' in the open() call if your file has BOM (Byte Order Mark)\n",
    "# Also make sure that the CSV file was saved as UTF-8 to avoid issues with special characters\n",
    "\n",
    "with open(CSV_PATH, newline='') as csvfile: \n",
    "    \n",
    "    # let's read the CSV using the standard \"csv\" library from python. No need for anything fancier.\n",
    "    csvreader = csv.DictReader(csvfile, delimiter=',', quotechar='\"')\n",
    "    \n",
    "    # now we loop over each row in our CSV\n",
    "    for row in csvreader:\n",
    "\n",
    "        # here we add the tag \"-20°C freezer\" to every row\n",
    "        # the API allows setting tags during creation (POST) of a resource or experiment, so we use it here\n",
    "        response = itemsApi.post_item_with_http_info(body={'category_id': RESOURCE_CATEGORY_ID, 'tags': ['-20°C freezer']})\n",
    "        locationHeaderInResponse = response[2].get('Location')\n",
    "        print(f'The newly created item is here: {locationHeaderInResponse}')\n",
    "\n",
    "        # that's our ID of the newly created resource\n",
    "        itemId = int(locationHeaderInResponse.split('/').pop())\n",
    "        print('The Item Id is: ' + str(itemId))\n",
    "\n",
    "        # Patch the item to change its content:\n",
    "        # the \"Name\" column becomes our title\n",
    "        # the \"Body\" is generated from the \"Comment\" column content with the \"getBodyFromRow()\" function\n",
    "        # for the \"ID\" column we match it to the \"custom_id\" property in elab\n",
    "        # and the extra fields (metadata) is built with a function\n",
    "        # the single line below will make all those changes at once\n",
    "        itemsApi.patch_item(itemId, body={'title': row['Name'], 'body': getBodyFromRow(row), 'custom_id': row['ID'], 'metadata': getMetadataFromRow(row)})"
   ]
  },
  {
   "cell_type": "markdown",
   "metadata": {},
   "source": [
    "### Modifying resources"
   ]
  },
  {
   "cell_type": "markdown",
   "metadata": {},
   "source": [
    "What item you want to modify"
   ]
  },
  {
   "cell_type": "code",
   "execution_count": 41,
   "metadata": {},
   "outputs": [
    {
     "name": "stdout",
     "output_type": "stream",
     "text": [
      "Item to modify: 48\n"
     ]
    }
   ],
   "source": [
    "itemId_to_modify = itemId\n",
    "print(f'Item to modify: {itemId_to_modify}')"
   ]
  },
  {
   "cell_type": "markdown",
   "metadata": {},
   "source": [
    "Modify whatever needed"
   ]
  },
  {
   "cell_type": "code",
   "execution_count": null,
   "metadata": {},
   "outputs": [],
   "source": [
    "itemsApi.patch_item(itemId, body={'title': 'Another title', \n",
    "                                  #'body': 'Main content text', \n",
    "                                  #'rating': 5\n",
    "                                  })"
   ]
  },
  {
   "cell_type": "markdown",
   "metadata": {},
   "source": [
    "## Importing experiments"
   ]
  },
  {
   "cell_type": "code",
   "execution_count": null,
   "metadata": {},
   "outputs": [],
   "source": [
    "# Load the experiments api\n",
    "experimentsApi = elabapi_python.ExperimentsApi(api_client)\n",
    "\n",
    "# all experiments belonging to that user will get modified\n",
    "target_userid = 2\n",
    "# make sure this team group exists!\n",
    "# to get its id go to /api/v2/teams/current/teamgroups\n",
    "target_teamgroup = 2\n",
    "\n",
    "# This is the permission setting we will assign to the experiments\n",
    "# base:20 means \"User + Admin\" (see https://github.com/elabftw/elabftw/blob/b193d9fc738ab2635e07317ad83f8c5c1c50413a/src/enums/BasePermissions.php#L17)\n",
    "canwrite = canread = { 'base': 20, 'teams': [], 'teamgroups': [target_teamgroup], 'users': [] }\n",
    "\n",
    "# get a list of experiments for a given user\n",
    "experiments = experimentsApi.read_experiments(owner=target_userid,limit=9999)\n",
    "for exp in experiments:\n",
    "    experimentsApi.patch_experiment(exp.id, body={'canread': json.dumps(canread), 'canwrite': json.dumps(canwrite)})"
   ]
  }
 ],
 "metadata": {
  "kernelspec": {
   "display_name": "data-analysis",
   "language": "python",
   "name": "python3"
  },
  "language_info": {
   "codemirror_mode": {
    "name": "ipython",
    "version": 3
   },
   "file_extension": ".py",
   "mimetype": "text/x-python",
   "name": "python",
   "nbconvert_exporter": "python",
   "pygments_lexer": "ipython3",
   "version": "3.11.0"
  }
 },
 "nbformat": 4,
 "nbformat_minor": 2
}
